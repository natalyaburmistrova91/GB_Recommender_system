{
 "cells": [
  {
   "cell_type": "markdown",
   "metadata": {
    "id": "y-NKXfLpIHyS"
   },
   "source": [
    "# Вебинар 3. Коллаборативная фильтрация. \n",
    "### Домашнее задание"
   ]
  },
  {
   "cell_type": "markdown",
   "metadata": {
    "id": "XvVWxLAcIHyh"
   },
   "source": [
    "### 1. Загрузка и обработка данных"
   ]
  },
  {
   "cell_type": "code",
   "execution_count": 1,
   "metadata": {
    "id": "gdbpCE-gIHyi"
   },
   "outputs": [],
   "source": [
    "import pandas as pd\n",
    "import numpy as np\n",
    "import matplotlib.pyplot as plt\n",
    "%matplotlib inline\n",
    "\n",
    "# Для работы с матрицами\n",
    "from scipy.sparse import csr_matrix\n",
    "\n",
    "# Матричная факторизация\n",
    "from implicit.als import AlternatingLeastSquares\n",
    "from implicit.nearest_neighbours import bm25_weight, tfidf_weight\n",
    "\n",
    "# Функции из 1-ого вебинара\n",
    "import os, sys\n",
    "\n",
    "module_path = os.path.abspath(os.path.join(os.pardir))\n",
    "if module_path not in sys.path:\n",
    "    sys.path.append(module_path)\n",
    "    \n",
    "from metrics import precision_at_k, recall_at_k"
   ]
  },
  {
   "cell_type": "code",
   "execution_count": 2,
   "metadata": {
    "id": "2IhaU8JDIHyi",
    "outputId": "a3a22636-04a2-4ad4-9774-e0c5cbcd6a09"
   },
   "outputs": [
    {
     "data": {
      "text/html": [
       "<div>\n",
       "<style scoped>\n",
       "    .dataframe tbody tr th:only-of-type {\n",
       "        vertical-align: middle;\n",
       "    }\n",
       "\n",
       "    .dataframe tbody tr th {\n",
       "        vertical-align: top;\n",
       "    }\n",
       "\n",
       "    .dataframe thead th {\n",
       "        text-align: right;\n",
       "    }\n",
       "</style>\n",
       "<table border=\"1\" class=\"dataframe\">\n",
       "  <thead>\n",
       "    <tr style=\"text-align: right;\">\n",
       "      <th></th>\n",
       "      <th>user_id</th>\n",
       "      <th>basket_id</th>\n",
       "      <th>day</th>\n",
       "      <th>item_id</th>\n",
       "      <th>quantity</th>\n",
       "      <th>sales_value</th>\n",
       "      <th>store_id</th>\n",
       "      <th>retail_disc</th>\n",
       "      <th>trans_time</th>\n",
       "      <th>week_no</th>\n",
       "      <th>coupon_disc</th>\n",
       "      <th>coupon_match_disc</th>\n",
       "    </tr>\n",
       "  </thead>\n",
       "  <tbody>\n",
       "    <tr>\n",
       "      <th>0</th>\n",
       "      <td>2375</td>\n",
       "      <td>26984851472</td>\n",
       "      <td>1</td>\n",
       "      <td>1004906</td>\n",
       "      <td>1</td>\n",
       "      <td>1.39</td>\n",
       "      <td>364</td>\n",
       "      <td>-0.60</td>\n",
       "      <td>1631</td>\n",
       "      <td>1</td>\n",
       "      <td>0.0</td>\n",
       "      <td>0.0</td>\n",
       "    </tr>\n",
       "    <tr>\n",
       "      <th>1</th>\n",
       "      <td>2375</td>\n",
       "      <td>26984851472</td>\n",
       "      <td>1</td>\n",
       "      <td>1033142</td>\n",
       "      <td>1</td>\n",
       "      <td>0.82</td>\n",
       "      <td>364</td>\n",
       "      <td>0.00</td>\n",
       "      <td>1631</td>\n",
       "      <td>1</td>\n",
       "      <td>0.0</td>\n",
       "      <td>0.0</td>\n",
       "    </tr>\n",
       "    <tr>\n",
       "      <th>2</th>\n",
       "      <td>2375</td>\n",
       "      <td>26984851472</td>\n",
       "      <td>1</td>\n",
       "      <td>1036325</td>\n",
       "      <td>1</td>\n",
       "      <td>0.99</td>\n",
       "      <td>364</td>\n",
       "      <td>-0.30</td>\n",
       "      <td>1631</td>\n",
       "      <td>1</td>\n",
       "      <td>0.0</td>\n",
       "      <td>0.0</td>\n",
       "    </tr>\n",
       "    <tr>\n",
       "      <th>3</th>\n",
       "      <td>2375</td>\n",
       "      <td>26984851472</td>\n",
       "      <td>1</td>\n",
       "      <td>1082185</td>\n",
       "      <td>1</td>\n",
       "      <td>1.21</td>\n",
       "      <td>364</td>\n",
       "      <td>0.00</td>\n",
       "      <td>1631</td>\n",
       "      <td>1</td>\n",
       "      <td>0.0</td>\n",
       "      <td>0.0</td>\n",
       "    </tr>\n",
       "    <tr>\n",
       "      <th>4</th>\n",
       "      <td>2375</td>\n",
       "      <td>26984851472</td>\n",
       "      <td>1</td>\n",
       "      <td>8160430</td>\n",
       "      <td>1</td>\n",
       "      <td>1.50</td>\n",
       "      <td>364</td>\n",
       "      <td>-0.39</td>\n",
       "      <td>1631</td>\n",
       "      <td>1</td>\n",
       "      <td>0.0</td>\n",
       "      <td>0.0</td>\n",
       "    </tr>\n",
       "    <tr>\n",
       "      <th>5</th>\n",
       "      <td>2375</td>\n",
       "      <td>26984851516</td>\n",
       "      <td>1</td>\n",
       "      <td>826249</td>\n",
       "      <td>2</td>\n",
       "      <td>1.98</td>\n",
       "      <td>364</td>\n",
       "      <td>-0.60</td>\n",
       "      <td>1642</td>\n",
       "      <td>1</td>\n",
       "      <td>0.0</td>\n",
       "      <td>0.0</td>\n",
       "    </tr>\n",
       "    <tr>\n",
       "      <th>6</th>\n",
       "      <td>2375</td>\n",
       "      <td>26984851516</td>\n",
       "      <td>1</td>\n",
       "      <td>1043142</td>\n",
       "      <td>1</td>\n",
       "      <td>1.57</td>\n",
       "      <td>364</td>\n",
       "      <td>-0.68</td>\n",
       "      <td>1642</td>\n",
       "      <td>1</td>\n",
       "      <td>0.0</td>\n",
       "      <td>0.0</td>\n",
       "    </tr>\n",
       "    <tr>\n",
       "      <th>7</th>\n",
       "      <td>2375</td>\n",
       "      <td>26984851516</td>\n",
       "      <td>1</td>\n",
       "      <td>1085983</td>\n",
       "      <td>1</td>\n",
       "      <td>2.99</td>\n",
       "      <td>364</td>\n",
       "      <td>-0.40</td>\n",
       "      <td>1642</td>\n",
       "      <td>1</td>\n",
       "      <td>0.0</td>\n",
       "      <td>0.0</td>\n",
       "    </tr>\n",
       "    <tr>\n",
       "      <th>8</th>\n",
       "      <td>2375</td>\n",
       "      <td>26984851516</td>\n",
       "      <td>1</td>\n",
       "      <td>1102651</td>\n",
       "      <td>1</td>\n",
       "      <td>1.89</td>\n",
       "      <td>364</td>\n",
       "      <td>0.00</td>\n",
       "      <td>1642</td>\n",
       "      <td>1</td>\n",
       "      <td>0.0</td>\n",
       "      <td>0.0</td>\n",
       "    </tr>\n",
       "    <tr>\n",
       "      <th>9</th>\n",
       "      <td>2375</td>\n",
       "      <td>26984851516</td>\n",
       "      <td>1</td>\n",
       "      <td>6423775</td>\n",
       "      <td>1</td>\n",
       "      <td>2.00</td>\n",
       "      <td>364</td>\n",
       "      <td>-0.79</td>\n",
       "      <td>1642</td>\n",
       "      <td>1</td>\n",
       "      <td>0.0</td>\n",
       "      <td>0.0</td>\n",
       "    </tr>\n",
       "  </tbody>\n",
       "</table>\n",
       "</div>"
      ],
      "text/plain": [
       "   user_id    basket_id  day  item_id  quantity  sales_value  store_id  \\\n",
       "0     2375  26984851472    1  1004906         1         1.39       364   \n",
       "1     2375  26984851472    1  1033142         1         0.82       364   \n",
       "2     2375  26984851472    1  1036325         1         0.99       364   \n",
       "3     2375  26984851472    1  1082185         1         1.21       364   \n",
       "4     2375  26984851472    1  8160430         1         1.50       364   \n",
       "5     2375  26984851516    1   826249         2         1.98       364   \n",
       "6     2375  26984851516    1  1043142         1         1.57       364   \n",
       "7     2375  26984851516    1  1085983         1         2.99       364   \n",
       "8     2375  26984851516    1  1102651         1         1.89       364   \n",
       "9     2375  26984851516    1  6423775         1         2.00       364   \n",
       "\n",
       "   retail_disc  trans_time  week_no  coupon_disc  coupon_match_disc  \n",
       "0        -0.60        1631        1          0.0                0.0  \n",
       "1         0.00        1631        1          0.0                0.0  \n",
       "2        -0.30        1631        1          0.0                0.0  \n",
       "3         0.00        1631        1          0.0                0.0  \n",
       "4        -0.39        1631        1          0.0                0.0  \n",
       "5        -0.60        1642        1          0.0                0.0  \n",
       "6        -0.68        1642        1          0.0                0.0  \n",
       "7        -0.40        1642        1          0.0                0.0  \n",
       "8         0.00        1642        1          0.0                0.0  \n",
       "9        -0.79        1642        1          0.0                0.0  "
      ]
     },
     "execution_count": 2,
     "metadata": {},
     "output_type": "execute_result"
    }
   ],
   "source": [
    "data = pd.read_csv('transaction_data.csv')\n",
    "\n",
    "test_size_weeks = 3\n",
    "\n",
    "data_train = data[data['week_no'] < data['week_no'].max() - test_size_weeks]\n",
    "data_test = data[data['week_no'] >= data['week_no'].max() - test_size_weeks]\n",
    "\n",
    "data_train.head(10)"
   ]
  },
  {
   "cell_type": "code",
   "execution_count": 3,
   "metadata": {
    "id": "2Csvjg-jIHyk",
    "outputId": "75eeddbb-bdc1-401e-bfcf-6a66ae46b3a3"
   },
   "outputs": [
    {
     "data": {
      "text/html": [
       "<div>\n",
       "<style scoped>\n",
       "    .dataframe tbody tr th:only-of-type {\n",
       "        vertical-align: middle;\n",
       "    }\n",
       "\n",
       "    .dataframe tbody tr th {\n",
       "        vertical-align: top;\n",
       "    }\n",
       "\n",
       "    .dataframe thead th {\n",
       "        text-align: right;\n",
       "    }\n",
       "</style>\n",
       "<table border=\"1\" class=\"dataframe\">\n",
       "  <thead>\n",
       "    <tr style=\"text-align: right;\">\n",
       "      <th></th>\n",
       "      <th>item_id</th>\n",
       "      <th>manufacturer</th>\n",
       "      <th>department</th>\n",
       "      <th>brand</th>\n",
       "      <th>commodity_desc</th>\n",
       "      <th>sub_commodity_desc</th>\n",
       "      <th>curr_size_of_product</th>\n",
       "    </tr>\n",
       "  </thead>\n",
       "  <tbody>\n",
       "    <tr>\n",
       "      <th>0</th>\n",
       "      <td>25671</td>\n",
       "      <td>2</td>\n",
       "      <td>GROCERY</td>\n",
       "      <td>National</td>\n",
       "      <td>FRZN ICE</td>\n",
       "      <td>ICE - CRUSHED/CUBED</td>\n",
       "      <td>22 LB</td>\n",
       "    </tr>\n",
       "    <tr>\n",
       "      <th>1</th>\n",
       "      <td>26081</td>\n",
       "      <td>2</td>\n",
       "      <td>MISC. TRANS.</td>\n",
       "      <td>National</td>\n",
       "      <td>NO COMMODITY DESCRIPTION</td>\n",
       "      <td>NO SUBCOMMODITY DESCRIPTION</td>\n",
       "      <td></td>\n",
       "    </tr>\n",
       "  </tbody>\n",
       "</table>\n",
       "</div>"
      ],
      "text/plain": [
       "   item_id  manufacturer    department     brand            commodity_desc  \\\n",
       "0    25671             2       GROCERY  National                  FRZN ICE   \n",
       "1    26081             2  MISC. TRANS.  National  NO COMMODITY DESCRIPTION   \n",
       "\n",
       "            sub_commodity_desc curr_size_of_product  \n",
       "0          ICE - CRUSHED/CUBED                22 LB  \n",
       "1  NO SUBCOMMODITY DESCRIPTION                       "
      ]
     },
     "execution_count": 3,
     "metadata": {},
     "output_type": "execute_result"
    }
   ],
   "source": [
    "item_features = pd.read_csv('product.csv')\n",
    "item_features.columns = [col.lower() for col in item_features.columns]\n",
    "item_features.rename(columns={'product_id': 'item_id'}, inplace=True)\n",
    "\n",
    "item_features.head(2)"
   ]
  },
  {
   "cell_type": "code",
   "execution_count": 4,
   "metadata": {
    "id": "ZQna6TBQIHyk",
    "outputId": "7728607d-5b4d-4ce8-f30f-79072af648d2",
    "scrolled": true
   },
   "outputs": [
    {
     "data": {
      "text/plain": [
       "array(['GROCERY', 'MISC. TRANS.', 'PASTRY', 'DRUG GM', 'MEAT-PCKGD',\n",
       "       'SEAFOOD-PCKGD', 'PRODUCE', 'NUTRITION', 'DELI', 'COSMETICS',\n",
       "       'MEAT', 'FLORAL', 'TRAVEL & LEISUR', 'SEAFOOD', 'MISC SALES TRAN',\n",
       "       'SALAD BAR', 'KIOSK-GAS', 'ELECT &PLUMBING', 'GRO BAKERY',\n",
       "       'GM MERCH EXP', 'FROZEN GROCERY', 'COUP/STR & MFG', 'SPIRITS',\n",
       "       'GARDEN CENTER', 'TOYS', 'CHARITABLE CONT', 'RESTAURANT', 'RX',\n",
       "       'PROD-WHS SALES', 'MEAT-WHSE', 'DAIRY DELI', 'CHEF SHOPPE', 'HBC',\n",
       "       'DELI/SNACK BAR', 'PORK', 'AUTOMOTIVE', 'VIDEO RENTAL', ' ',\n",
       "       'CNTRL/STORE SUP', 'HOUSEWARES', 'POSTAL CENTER', 'PHOTO', 'VIDEO',\n",
       "       'PHARMACY SUPPLY'], dtype=object)"
      ]
     },
     "execution_count": 4,
     "metadata": {},
     "output_type": "execute_result"
    }
   ],
   "source": [
    "item_features.department.unique()"
   ]
  },
  {
   "cell_type": "code",
   "execution_count": 5,
   "metadata": {
    "id": "vBJcGBpTIHyl",
    "outputId": "612dfe1f-286b-4d81-af92-721c6e317b6c"
   },
   "outputs": [
    {
     "data": {
      "text/html": [
       "<div>\n",
       "<style scoped>\n",
       "    .dataframe tbody tr th:only-of-type {\n",
       "        vertical-align: middle;\n",
       "    }\n",
       "\n",
       "    .dataframe tbody tr th {\n",
       "        vertical-align: top;\n",
       "    }\n",
       "\n",
       "    .dataframe thead th {\n",
       "        text-align: right;\n",
       "    }\n",
       "</style>\n",
       "<table border=\"1\" class=\"dataframe\">\n",
       "  <thead>\n",
       "    <tr style=\"text-align: right;\">\n",
       "      <th></th>\n",
       "      <th>user_id</th>\n",
       "      <th>actual</th>\n",
       "    </tr>\n",
       "  </thead>\n",
       "  <tbody>\n",
       "    <tr>\n",
       "      <th>0</th>\n",
       "      <td>1</td>\n",
       "      <td>[821867, 834484, 856942, 865456, 889248, 90795...</td>\n",
       "    </tr>\n",
       "    <tr>\n",
       "      <th>1</th>\n",
       "      <td>3</td>\n",
       "      <td>[835476, 851057, 872021, 878302, 879948, 90963...</td>\n",
       "    </tr>\n",
       "  </tbody>\n",
       "</table>\n",
       "</div>"
      ],
      "text/plain": [
       "   user_id                                             actual\n",
       "0        1  [821867, 834484, 856942, 865456, 889248, 90795...\n",
       "1        3  [835476, 851057, 872021, 878302, 879948, 90963..."
      ]
     },
     "execution_count": 5,
     "metadata": {},
     "output_type": "execute_result"
    }
   ],
   "source": [
    "result = data_test.groupby('user_id')['item_id'].unique().reset_index()\n",
    "result.columns=['user_id', 'actual']\n",
    "result.head(2)"
   ]
  },
  {
   "cell_type": "code",
   "execution_count": 6,
   "metadata": {
    "id": "9dmp1II9IHyl"
   },
   "outputs": [],
   "source": [
    "popularity = data_train.groupby('item_id')['quantity'].sum().reset_index()\n",
    "popularity.rename(columns={'quantity': 'n_sold'}, inplace=True)\n",
    "\n",
    "top_5000 = popularity.sort_values('n_sold', ascending=False).head(5000).item_id.tolist()"
   ]
  },
  {
   "cell_type": "markdown",
   "metadata": {},
   "source": [
    "# ДЗ\n",
    "\n",
    "1) Попытаться ответить на вопросы/выдвинуть гипотезы\n",
    "\n",
    "2) Доделать прошлые домашния задания\n",
    "\n",
    "3) Прочитать статьи BM25/MatrixFactorization\n",
    "\n",
    "## Практика:\n",
    "\n",
    "4) Поэкспериментировать с ALS (grid-search)"
   ]
  },
  {
   "cell_type": "markdown",
   "metadata": {},
   "source": [
    "### 2. Grid-search c ALS"
   ]
  },
  {
   "cell_type": "code",
   "execution_count": 25,
   "metadata": {},
   "outputs": [],
   "source": [
    "import itertools"
   ]
  },
  {
   "cell_type": "code",
   "execution_count": 8,
   "metadata": {},
   "outputs": [
    {
     "name": "stderr",
     "output_type": "stream",
     "text": [
      "c:\\users\\n.burmistrova\\appdata\\local\\programs\\python\\python37-32\\lib\\site-packages\\pandas-1.0.1-py3.7-win32.egg\\pandas\\core\\indexing.py:965: SettingWithCopyWarning: \n",
      "A value is trying to be set on a copy of a slice from a DataFrame.\n",
      "Try using .loc[row_indexer,col_indexer] = value instead\n",
      "\n",
      "See the caveats in the documentation: https://pandas.pydata.org/pandas-docs/stable/user_guide/indexing.html#returning-a-view-versus-a-copy\n",
      "  self.obj[item] = s\n"
     ]
    },
    {
     "data": {
      "text/html": [
       "<div>\n",
       "<style scoped>\n",
       "    .dataframe tbody tr th:only-of-type {\n",
       "        vertical-align: middle;\n",
       "    }\n",
       "\n",
       "    .dataframe tbody tr th {\n",
       "        vertical-align: top;\n",
       "    }\n",
       "\n",
       "    .dataframe thead th {\n",
       "        text-align: right;\n",
       "    }\n",
       "</style>\n",
       "<table border=\"1\" class=\"dataframe\">\n",
       "  <thead>\n",
       "    <tr style=\"text-align: right;\">\n",
       "      <th>item_id</th>\n",
       "      <th>202291</th>\n",
       "      <th>397896</th>\n",
       "      <th>420647</th>\n",
       "      <th>480014</th>\n",
       "      <th>545926</th>\n",
       "      <th>707683</th>\n",
       "      <th>731106</th>\n",
       "      <th>818980</th>\n",
       "      <th>819063</th>\n",
       "      <th>819227</th>\n",
       "      <th>...</th>\n",
       "      <th>15778533</th>\n",
       "      <th>15831255</th>\n",
       "      <th>15926712</th>\n",
       "      <th>15926775</th>\n",
       "      <th>15926844</th>\n",
       "      <th>15926886</th>\n",
       "      <th>15927403</th>\n",
       "      <th>15927661</th>\n",
       "      <th>15927850</th>\n",
       "      <th>16809471</th>\n",
       "    </tr>\n",
       "    <tr>\n",
       "      <th>user_id</th>\n",
       "      <th></th>\n",
       "      <th></th>\n",
       "      <th></th>\n",
       "      <th></th>\n",
       "      <th></th>\n",
       "      <th></th>\n",
       "      <th></th>\n",
       "      <th></th>\n",
       "      <th></th>\n",
       "      <th></th>\n",
       "      <th></th>\n",
       "      <th></th>\n",
       "      <th></th>\n",
       "      <th></th>\n",
       "      <th></th>\n",
       "      <th></th>\n",
       "      <th></th>\n",
       "      <th></th>\n",
       "      <th></th>\n",
       "      <th></th>\n",
       "      <th></th>\n",
       "    </tr>\n",
       "  </thead>\n",
       "  <tbody>\n",
       "    <tr>\n",
       "      <th>1</th>\n",
       "      <td>0.0</td>\n",
       "      <td>0.0</td>\n",
       "      <td>0.0</td>\n",
       "      <td>0.0</td>\n",
       "      <td>0.0</td>\n",
       "      <td>0.0</td>\n",
       "      <td>0.0</td>\n",
       "      <td>0.0</td>\n",
       "      <td>0.0</td>\n",
       "      <td>0.0</td>\n",
       "      <td>...</td>\n",
       "      <td>0.0</td>\n",
       "      <td>0.0</td>\n",
       "      <td>0.0</td>\n",
       "      <td>0.0</td>\n",
       "      <td>1.0</td>\n",
       "      <td>0.0</td>\n",
       "      <td>0.0</td>\n",
       "      <td>0.0</td>\n",
       "      <td>0.0</td>\n",
       "      <td>0.0</td>\n",
       "    </tr>\n",
       "    <tr>\n",
       "      <th>2</th>\n",
       "      <td>0.0</td>\n",
       "      <td>0.0</td>\n",
       "      <td>0.0</td>\n",
       "      <td>0.0</td>\n",
       "      <td>0.0</td>\n",
       "      <td>0.0</td>\n",
       "      <td>0.0</td>\n",
       "      <td>0.0</td>\n",
       "      <td>0.0</td>\n",
       "      <td>0.0</td>\n",
       "      <td>...</td>\n",
       "      <td>0.0</td>\n",
       "      <td>0.0</td>\n",
       "      <td>0.0</td>\n",
       "      <td>0.0</td>\n",
       "      <td>0.0</td>\n",
       "      <td>0.0</td>\n",
       "      <td>0.0</td>\n",
       "      <td>0.0</td>\n",
       "      <td>0.0</td>\n",
       "      <td>0.0</td>\n",
       "    </tr>\n",
       "    <tr>\n",
       "      <th>3</th>\n",
       "      <td>0.0</td>\n",
       "      <td>0.0</td>\n",
       "      <td>0.0</td>\n",
       "      <td>0.0</td>\n",
       "      <td>0.0</td>\n",
       "      <td>0.0</td>\n",
       "      <td>0.0</td>\n",
       "      <td>0.0</td>\n",
       "      <td>0.0</td>\n",
       "      <td>0.0</td>\n",
       "      <td>...</td>\n",
       "      <td>0.0</td>\n",
       "      <td>0.0</td>\n",
       "      <td>0.0</td>\n",
       "      <td>0.0</td>\n",
       "      <td>0.0</td>\n",
       "      <td>0.0</td>\n",
       "      <td>0.0</td>\n",
       "      <td>0.0</td>\n",
       "      <td>0.0</td>\n",
       "      <td>0.0</td>\n",
       "    </tr>\n",
       "  </tbody>\n",
       "</table>\n",
       "<p>3 rows × 5001 columns</p>\n",
       "</div>"
      ],
      "text/plain": [
       "item_id  202291    397896    420647    480014    545926    707683    731106    \\\n",
       "user_id                                                                         \n",
       "1             0.0       0.0       0.0       0.0       0.0       0.0       0.0   \n",
       "2             0.0       0.0       0.0       0.0       0.0       0.0       0.0   \n",
       "3             0.0       0.0       0.0       0.0       0.0       0.0       0.0   \n",
       "\n",
       "item_id  818980    819063    819227    ...  15778533  15831255  15926712  \\\n",
       "user_id                                ...                                 \n",
       "1             0.0       0.0       0.0  ...       0.0       0.0       0.0   \n",
       "2             0.0       0.0       0.0  ...       0.0       0.0       0.0   \n",
       "3             0.0       0.0       0.0  ...       0.0       0.0       0.0   \n",
       "\n",
       "item_id  15926775  15926844  15926886  15927403  15927661  15927850  16809471  \n",
       "user_id                                                                        \n",
       "1             0.0       1.0       0.0       0.0       0.0       0.0       0.0  \n",
       "2             0.0       0.0       0.0       0.0       0.0       0.0       0.0  \n",
       "3             0.0       0.0       0.0       0.0       0.0       0.0       0.0  \n",
       "\n",
       "[3 rows x 5001 columns]"
      ]
     },
     "execution_count": 8,
     "metadata": {},
     "output_type": "execute_result"
    }
   ],
   "source": [
    "# Заведем фиктивный item_id\n",
    "\n",
    "data_train.loc[~data_train['item_id'].isin(top_5000), 'item_id'] = 999999\n",
    "\n",
    "user_item_matrix = pd.pivot_table(data_train, \n",
    "                                  index='user_id', columns='item_id', \n",
    "                                  values='quantity', # Можно пробоват ьдругие варианты\n",
    "                                  aggfunc='count', \n",
    "                                  fill_value=0\n",
    "                                 )\n",
    "\n",
    "user_item_matrix = user_item_matrix.astype(float) # необходимый тип матрицы для implicit\n",
    "\n",
    "# переведем в формат saprse matrix\n",
    "sparse_user_item = csr_matrix(user_item_matrix)\n",
    "\n",
    "user_item_matrix.head(3)"
   ]
  },
  {
   "cell_type": "code",
   "execution_count": 9,
   "metadata": {},
   "outputs": [],
   "source": [
    "userids = user_item_matrix.index.values\n",
    "itemids = user_item_matrix.columns.values\n",
    "\n",
    "matrix_userids = np.arange(len(userids))\n",
    "matrix_itemids = np.arange(len(itemids))\n",
    "\n",
    "id_to_itemid = dict(zip(matrix_itemids, itemids))\n",
    "id_to_userid = dict(zip(matrix_userids, userids))\n",
    "\n",
    "itemid_to_id = dict(zip(itemids, matrix_itemids))\n",
    "userid_to_id = dict(zip(userids, matrix_userids))"
   ]
  },
  {
   "cell_type": "code",
   "execution_count": 73,
   "metadata": {},
   "outputs": [],
   "source": [
    "def get_recommendations(user, model, N=5):\n",
    "    res = [id_to_itemid[rec[0]] for rec in \n",
    "                    model.recommend(userid=userid_to_id[user], \n",
    "                                    user_items=sparse_user_item,   # на вход user-item matrix\n",
    "                                    N=N, \n",
    "                                    filter_already_liked_items=False, \n",
    "                                    filter_items=None, \n",
    "                                    recalculate_user=True)]\n",
    "    return res"
   ]
  },
  {
   "cell_type": "code",
   "execution_count": 74,
   "metadata": {},
   "outputs": [],
   "source": [
    "def learning_als(user_item_matrix, params, result):\n",
    "    model = AlternatingLeastSquares(**params)\n",
    "    print(params)\n",
    "    model.fit(csr_matrix(user_item_matrix).T,  # На вход item-user matrix\n",
    "              show_progress=True)\n",
    "    result['temp_als'] = result['user_id'].apply(lambda x: get_recommendations(x, model=model, N=5))\n",
    "    pers_at_k = result.apply(lambda row: precision_at_k(row['temp_als'], row['actual']), axis=1).mean()\n",
    "    return pers_at_k"
   ]
  },
  {
   "cell_type": "code",
   "execution_count": 75,
   "metadata": {},
   "outputs": [],
   "source": [
    "def grid_search_ALS(user_item_matrix, param_grid, result):\n",
    "\n",
    "    curves = []\n",
    "    keys, values = zip(*param_grid.items())\n",
    "    iteration = 0\n",
    "    for v in itertools.product(*values):\n",
    "        params = dict(zip(keys, v))\n",
    "        \n",
    "        pers_at_k = learning_als(user_item_matrix, params, result)\n",
    "\n",
    "        curves.append({'params': params,\n",
    "                       'pers_at_k': pers_at_k,\n",
    "                       'iteration': iteration})\n",
    "        iteration += 1\n",
    "    return curves"
   ]
  },
  {
   "cell_type": "code",
   "execution_count": 76,
   "metadata": {},
   "outputs": [],
   "source": [
    "param_grid_test = {'factors': [50, 100],\n",
    "              'regularization': [0.001],\n",
    "              'iterations': [10, 15],\n",
    "              'num_threads': [4],\n",
    "              'calculate_training_loss': [True]}"
   ]
  },
  {
   "cell_type": "code",
   "execution_count": 37,
   "metadata": {},
   "outputs": [],
   "source": [
    "param_grid_final = {'factors': [50, 100, 150, 200],\n",
    "              'regularization': [0.001, 0.0001, 0.005, 0.01, 0.1, 1],\n",
    "              'iterations': [10, 15, 20, 25, 100],\n",
    "              'num_threads': [4],\n",
    "              'calculate_training_loss': [True]}"
   ]
  },
  {
   "cell_type": "code",
   "execution_count": 77,
   "metadata": {
    "scrolled": true
   },
   "outputs": [
    {
     "name": "stdout",
     "output_type": "stream",
     "text": [
      "{'factors': 50, 'regularization': 0.001, 'iterations': 10, 'num_threads': 4, 'calculate_training_loss': True}\n"
     ]
    },
    {
     "data": {
      "application/vnd.jupyter.widget-view+json": {
       "model_id": "024d32ae9dc64eb6ad3659a9a7fcd8ef",
       "version_major": 2,
       "version_minor": 0
      },
      "text/plain": [
       "  0%|          | 0/10 [00:00<?, ?it/s]"
      ]
     },
     "metadata": {},
     "output_type": "display_data"
    },
    {
     "name": "stdout",
     "output_type": "stream",
     "text": [
      "{'factors': 50, 'regularization': 0.001, 'iterations': 15, 'num_threads': 4, 'calculate_training_loss': True}\n"
     ]
    },
    {
     "data": {
      "application/vnd.jupyter.widget-view+json": {
       "model_id": "3af60df1ee044885a7714b0cb6cad766",
       "version_major": 2,
       "version_minor": 0
      },
      "text/plain": [
       "  0%|          | 0/15 [00:00<?, ?it/s]"
      ]
     },
     "metadata": {},
     "output_type": "display_data"
    },
    {
     "name": "stdout",
     "output_type": "stream",
     "text": [
      "{'factors': 50, 'regularization': 0.001, 'iterations': 20, 'num_threads': 4, 'calculate_training_loss': True}\n"
     ]
    },
    {
     "data": {
      "application/vnd.jupyter.widget-view+json": {
       "model_id": "f8e9265704424e8ab36be271aac71e18",
       "version_major": 2,
       "version_minor": 0
      },
      "text/plain": [
       "  0%|          | 0/20 [00:00<?, ?it/s]"
      ]
     },
     "metadata": {},
     "output_type": "display_data"
    },
    {
     "name": "stdout",
     "output_type": "stream",
     "text": [
      "{'factors': 50, 'regularization': 0.001, 'iterations': 25, 'num_threads': 4, 'calculate_training_loss': True}\n"
     ]
    },
    {
     "data": {
      "application/vnd.jupyter.widget-view+json": {
       "model_id": "90f05e608e5745aea85f56422dad6555",
       "version_major": 2,
       "version_minor": 0
      },
      "text/plain": [
       "  0%|          | 0/25 [00:00<?, ?it/s]"
      ]
     },
     "metadata": {},
     "output_type": "display_data"
    },
    {
     "name": "stdout",
     "output_type": "stream",
     "text": [
      "{'factors': 50, 'regularization': 0.001, 'iterations': 100, 'num_threads': 4, 'calculate_training_loss': True}\n"
     ]
    },
    {
     "data": {
      "application/vnd.jupyter.widget-view+json": {
       "model_id": "70066097c4d543aaa24b73fd6459c9e5",
       "version_major": 2,
       "version_minor": 0
      },
      "text/plain": [
       "  0%|          | 0/100 [00:00<?, ?it/s]"
      ]
     },
     "metadata": {},
     "output_type": "display_data"
    },
    {
     "name": "stdout",
     "output_type": "stream",
     "text": [
      "{'factors': 50, 'regularization': 0.0001, 'iterations': 10, 'num_threads': 4, 'calculate_training_loss': True}\n"
     ]
    },
    {
     "data": {
      "application/vnd.jupyter.widget-view+json": {
       "model_id": "50218f4e6fb24f64bb4e12e0aa188a4e",
       "version_major": 2,
       "version_minor": 0
      },
      "text/plain": [
       "  0%|          | 0/10 [00:00<?, ?it/s]"
      ]
     },
     "metadata": {},
     "output_type": "display_data"
    },
    {
     "name": "stdout",
     "output_type": "stream",
     "text": [
      "{'factors': 50, 'regularization': 0.0001, 'iterations': 15, 'num_threads': 4, 'calculate_training_loss': True}\n"
     ]
    },
    {
     "data": {
      "application/vnd.jupyter.widget-view+json": {
       "model_id": "bfd5f182e7d0491db9314ef4a069814c",
       "version_major": 2,
       "version_minor": 0
      },
      "text/plain": [
       "  0%|          | 0/15 [00:00<?, ?it/s]"
      ]
     },
     "metadata": {},
     "output_type": "display_data"
    },
    {
     "name": "stdout",
     "output_type": "stream",
     "text": [
      "{'factors': 50, 'regularization': 0.0001, 'iterations': 20, 'num_threads': 4, 'calculate_training_loss': True}\n"
     ]
    },
    {
     "data": {
      "application/vnd.jupyter.widget-view+json": {
       "model_id": "054b2d69c8ae4739b36497b362d399c4",
       "version_major": 2,
       "version_minor": 0
      },
      "text/plain": [
       "  0%|          | 0/20 [00:00<?, ?it/s]"
      ]
     },
     "metadata": {},
     "output_type": "display_data"
    },
    {
     "name": "stdout",
     "output_type": "stream",
     "text": [
      "{'factors': 50, 'regularization': 0.0001, 'iterations': 25, 'num_threads': 4, 'calculate_training_loss': True}\n"
     ]
    },
    {
     "data": {
      "application/vnd.jupyter.widget-view+json": {
       "model_id": "52f80c87b463487e8b4280baf4a48186",
       "version_major": 2,
       "version_minor": 0
      },
      "text/plain": [
       "  0%|          | 0/25 [00:00<?, ?it/s]"
      ]
     },
     "metadata": {},
     "output_type": "display_data"
    },
    {
     "name": "stdout",
     "output_type": "stream",
     "text": [
      "{'factors': 50, 'regularization': 0.0001, 'iterations': 100, 'num_threads': 4, 'calculate_training_loss': True}\n"
     ]
    },
    {
     "data": {
      "application/vnd.jupyter.widget-view+json": {
       "model_id": "d79ecb1f264b4b93a5dbf925a3a9c399",
       "version_major": 2,
       "version_minor": 0
      },
      "text/plain": [
       "  0%|          | 0/100 [00:00<?, ?it/s]"
      ]
     },
     "metadata": {},
     "output_type": "display_data"
    },
    {
     "name": "stdout",
     "output_type": "stream",
     "text": [
      "{'factors': 50, 'regularization': 0.005, 'iterations': 10, 'num_threads': 4, 'calculate_training_loss': True}\n"
     ]
    },
    {
     "data": {
      "application/vnd.jupyter.widget-view+json": {
       "model_id": "9d1a391d3c5a4b2a9be1f88d2364a5fd",
       "version_major": 2,
       "version_minor": 0
      },
      "text/plain": [
       "  0%|          | 0/10 [00:00<?, ?it/s]"
      ]
     },
     "metadata": {},
     "output_type": "display_data"
    },
    {
     "name": "stdout",
     "output_type": "stream",
     "text": [
      "{'factors': 50, 'regularization': 0.005, 'iterations': 15, 'num_threads': 4, 'calculate_training_loss': True}\n"
     ]
    },
    {
     "data": {
      "application/vnd.jupyter.widget-view+json": {
       "model_id": "08236ab5a3b04699a6d092ea2db5f30b",
       "version_major": 2,
       "version_minor": 0
      },
      "text/plain": [
       "  0%|          | 0/15 [00:00<?, ?it/s]"
      ]
     },
     "metadata": {},
     "output_type": "display_data"
    },
    {
     "name": "stdout",
     "output_type": "stream",
     "text": [
      "{'factors': 50, 'regularization': 0.005, 'iterations': 20, 'num_threads': 4, 'calculate_training_loss': True}\n"
     ]
    },
    {
     "data": {
      "application/vnd.jupyter.widget-view+json": {
       "model_id": "4d6f3185c5e94033965ea3de8d1761a5",
       "version_major": 2,
       "version_minor": 0
      },
      "text/plain": [
       "  0%|          | 0/20 [00:00<?, ?it/s]"
      ]
     },
     "metadata": {},
     "output_type": "display_data"
    },
    {
     "name": "stdout",
     "output_type": "stream",
     "text": [
      "{'factors': 50, 'regularization': 0.005, 'iterations': 25, 'num_threads': 4, 'calculate_training_loss': True}\n"
     ]
    },
    {
     "data": {
      "application/vnd.jupyter.widget-view+json": {
       "model_id": "ba78e69a1bcf4aabb939b3de80681f42",
       "version_major": 2,
       "version_minor": 0
      },
      "text/plain": [
       "  0%|          | 0/25 [00:00<?, ?it/s]"
      ]
     },
     "metadata": {},
     "output_type": "display_data"
    },
    {
     "name": "stdout",
     "output_type": "stream",
     "text": [
      "{'factors': 50, 'regularization': 0.005, 'iterations': 100, 'num_threads': 4, 'calculate_training_loss': True}\n"
     ]
    },
    {
     "data": {
      "application/vnd.jupyter.widget-view+json": {
       "model_id": "c68cb5e061324a0ca67f9969ccbeb73f",
       "version_major": 2,
       "version_minor": 0
      },
      "text/plain": [
       "  0%|          | 0/100 [00:00<?, ?it/s]"
      ]
     },
     "metadata": {},
     "output_type": "display_data"
    },
    {
     "name": "stdout",
     "output_type": "stream",
     "text": [
      "{'factors': 50, 'regularization': 0.01, 'iterations': 10, 'num_threads': 4, 'calculate_training_loss': True}\n"
     ]
    },
    {
     "data": {
      "application/vnd.jupyter.widget-view+json": {
       "model_id": "d5f05d428da54f07a95131b921307f46",
       "version_major": 2,
       "version_minor": 0
      },
      "text/plain": [
       "  0%|          | 0/10 [00:00<?, ?it/s]"
      ]
     },
     "metadata": {},
     "output_type": "display_data"
    },
    {
     "name": "stdout",
     "output_type": "stream",
     "text": [
      "{'factors': 50, 'regularization': 0.01, 'iterations': 15, 'num_threads': 4, 'calculate_training_loss': True}\n"
     ]
    },
    {
     "data": {
      "application/vnd.jupyter.widget-view+json": {
       "model_id": "ae680e51fd864228868d1e278fcaf403",
       "version_major": 2,
       "version_minor": 0
      },
      "text/plain": [
       "  0%|          | 0/15 [00:00<?, ?it/s]"
      ]
     },
     "metadata": {},
     "output_type": "display_data"
    },
    {
     "name": "stdout",
     "output_type": "stream",
     "text": [
      "{'factors': 50, 'regularization': 0.01, 'iterations': 20, 'num_threads': 4, 'calculate_training_loss': True}\n"
     ]
    },
    {
     "data": {
      "application/vnd.jupyter.widget-view+json": {
       "model_id": "d110666a3a554017864de152f3ba15a0",
       "version_major": 2,
       "version_minor": 0
      },
      "text/plain": [
       "  0%|          | 0/20 [00:00<?, ?it/s]"
      ]
     },
     "metadata": {},
     "output_type": "display_data"
    },
    {
     "name": "stdout",
     "output_type": "stream",
     "text": [
      "{'factors': 50, 'regularization': 0.01, 'iterations': 25, 'num_threads': 4, 'calculate_training_loss': True}\n"
     ]
    },
    {
     "data": {
      "application/vnd.jupyter.widget-view+json": {
       "model_id": "8afe0a0ee0cb4f62909e71d54f9d1103",
       "version_major": 2,
       "version_minor": 0
      },
      "text/plain": [
       "  0%|          | 0/25 [00:00<?, ?it/s]"
      ]
     },
     "metadata": {},
     "output_type": "display_data"
    },
    {
     "name": "stdout",
     "output_type": "stream",
     "text": [
      "{'factors': 50, 'regularization': 0.01, 'iterations': 100, 'num_threads': 4, 'calculate_training_loss': True}\n"
     ]
    },
    {
     "data": {
      "application/vnd.jupyter.widget-view+json": {
       "model_id": "28a9cf60a28f426b920d4665fa1ebd39",
       "version_major": 2,
       "version_minor": 0
      },
      "text/plain": [
       "  0%|          | 0/100 [00:00<?, ?it/s]"
      ]
     },
     "metadata": {},
     "output_type": "display_data"
    },
    {
     "name": "stdout",
     "output_type": "stream",
     "text": [
      "{'factors': 50, 'regularization': 0.1, 'iterations': 10, 'num_threads': 4, 'calculate_training_loss': True}\n"
     ]
    },
    {
     "data": {
      "application/vnd.jupyter.widget-view+json": {
       "model_id": "c4f35ea7a18442d9b44f193134640d78",
       "version_major": 2,
       "version_minor": 0
      },
      "text/plain": [
       "  0%|          | 0/10 [00:00<?, ?it/s]"
      ]
     },
     "metadata": {},
     "output_type": "display_data"
    },
    {
     "name": "stdout",
     "output_type": "stream",
     "text": [
      "{'factors': 50, 'regularization': 0.1, 'iterations': 15, 'num_threads': 4, 'calculate_training_loss': True}\n"
     ]
    },
    {
     "data": {
      "application/vnd.jupyter.widget-view+json": {
       "model_id": "dcc659cb9d2a4254a5e6b4272254c6e1",
       "version_major": 2,
       "version_minor": 0
      },
      "text/plain": [
       "  0%|          | 0/15 [00:00<?, ?it/s]"
      ]
     },
     "metadata": {},
     "output_type": "display_data"
    },
    {
     "name": "stdout",
     "output_type": "stream",
     "text": [
      "{'factors': 50, 'regularization': 0.1, 'iterations': 20, 'num_threads': 4, 'calculate_training_loss': True}\n"
     ]
    },
    {
     "data": {
      "application/vnd.jupyter.widget-view+json": {
       "model_id": "4c3ef48a25a34192ab49f92d80783b9c",
       "version_major": 2,
       "version_minor": 0
      },
      "text/plain": [
       "  0%|          | 0/20 [00:00<?, ?it/s]"
      ]
     },
     "metadata": {},
     "output_type": "display_data"
    },
    {
     "name": "stdout",
     "output_type": "stream",
     "text": [
      "{'factors': 50, 'regularization': 0.1, 'iterations': 25, 'num_threads': 4, 'calculate_training_loss': True}\n"
     ]
    },
    {
     "data": {
      "application/vnd.jupyter.widget-view+json": {
       "model_id": "18ec91bbe1fe4a7381fafd86bfa6c819",
       "version_major": 2,
       "version_minor": 0
      },
      "text/plain": [
       "  0%|          | 0/25 [00:00<?, ?it/s]"
      ]
     },
     "metadata": {},
     "output_type": "display_data"
    },
    {
     "name": "stdout",
     "output_type": "stream",
     "text": [
      "{'factors': 50, 'regularization': 0.1, 'iterations': 100, 'num_threads': 4, 'calculate_training_loss': True}\n"
     ]
    },
    {
     "data": {
      "application/vnd.jupyter.widget-view+json": {
       "model_id": "4eb4a1b3b0b946158b2f41c7d4f668dd",
       "version_major": 2,
       "version_minor": 0
      },
      "text/plain": [
       "  0%|          | 0/100 [00:00<?, ?it/s]"
      ]
     },
     "metadata": {},
     "output_type": "display_data"
    },
    {
     "name": "stdout",
     "output_type": "stream",
     "text": [
      "{'factors': 50, 'regularization': 1, 'iterations': 10, 'num_threads': 4, 'calculate_training_loss': True}\n"
     ]
    },
    {
     "data": {
      "application/vnd.jupyter.widget-view+json": {
       "model_id": "fdbb772efaa5454d80075f2328707d06",
       "version_major": 2,
       "version_minor": 0
      },
      "text/plain": [
       "  0%|          | 0/10 [00:00<?, ?it/s]"
      ]
     },
     "metadata": {},
     "output_type": "display_data"
    },
    {
     "name": "stdout",
     "output_type": "stream",
     "text": [
      "{'factors': 50, 'regularization': 1, 'iterations': 15, 'num_threads': 4, 'calculate_training_loss': True}\n"
     ]
    },
    {
     "data": {
      "application/vnd.jupyter.widget-view+json": {
       "model_id": "bbec322dc682450797ad9e274fb305af",
       "version_major": 2,
       "version_minor": 0
      },
      "text/plain": [
       "  0%|          | 0/15 [00:00<?, ?it/s]"
      ]
     },
     "metadata": {},
     "output_type": "display_data"
    },
    {
     "name": "stdout",
     "output_type": "stream",
     "text": [
      "{'factors': 50, 'regularization': 1, 'iterations': 20, 'num_threads': 4, 'calculate_training_loss': True}\n"
     ]
    },
    {
     "data": {
      "application/vnd.jupyter.widget-view+json": {
       "model_id": "1642d70f33e641d18d735c3cfcaca2d1",
       "version_major": 2,
       "version_minor": 0
      },
      "text/plain": [
       "  0%|          | 0/20 [00:00<?, ?it/s]"
      ]
     },
     "metadata": {},
     "output_type": "display_data"
    },
    {
     "name": "stdout",
     "output_type": "stream",
     "text": [
      "{'factors': 50, 'regularization': 1, 'iterations': 25, 'num_threads': 4, 'calculate_training_loss': True}\n"
     ]
    },
    {
     "data": {
      "application/vnd.jupyter.widget-view+json": {
       "model_id": "40ccc0605e994260a19f3f4cf670515f",
       "version_major": 2,
       "version_minor": 0
      },
      "text/plain": [
       "  0%|          | 0/25 [00:00<?, ?it/s]"
      ]
     },
     "metadata": {},
     "output_type": "display_data"
    },
    {
     "name": "stdout",
     "output_type": "stream",
     "text": [
      "{'factors': 50, 'regularization': 1, 'iterations': 100, 'num_threads': 4, 'calculate_training_loss': True}\n"
     ]
    },
    {
     "data": {
      "application/vnd.jupyter.widget-view+json": {
       "model_id": "bbca855e9eb14648bbefc9274910c46c",
       "version_major": 2,
       "version_minor": 0
      },
      "text/plain": [
       "  0%|          | 0/100 [00:00<?, ?it/s]"
      ]
     },
     "metadata": {},
     "output_type": "display_data"
    },
    {
     "name": "stdout",
     "output_type": "stream",
     "text": [
      "{'factors': 100, 'regularization': 0.001, 'iterations': 10, 'num_threads': 4, 'calculate_training_loss': True}\n"
     ]
    },
    {
     "data": {
      "application/vnd.jupyter.widget-view+json": {
       "model_id": "3cb699cc9c9d4b06947acc65d75e9d5b",
       "version_major": 2,
       "version_minor": 0
      },
      "text/plain": [
       "  0%|          | 0/10 [00:00<?, ?it/s]"
      ]
     },
     "metadata": {},
     "output_type": "display_data"
    },
    {
     "name": "stdout",
     "output_type": "stream",
     "text": [
      "{'factors': 100, 'regularization': 0.001, 'iterations': 15, 'num_threads': 4, 'calculate_training_loss': True}\n"
     ]
    },
    {
     "data": {
      "application/vnd.jupyter.widget-view+json": {
       "model_id": "4d41ea2024584d7a97cdb27226bea442",
       "version_major": 2,
       "version_minor": 0
      },
      "text/plain": [
       "  0%|          | 0/15 [00:00<?, ?it/s]"
      ]
     },
     "metadata": {},
     "output_type": "display_data"
    },
    {
     "name": "stdout",
     "output_type": "stream",
     "text": [
      "{'factors': 100, 'regularization': 0.001, 'iterations': 20, 'num_threads': 4, 'calculate_training_loss': True}\n"
     ]
    },
    {
     "data": {
      "application/vnd.jupyter.widget-view+json": {
       "model_id": "03cbea171c764dd7b4136aa82a71c0bc",
       "version_major": 2,
       "version_minor": 0
      },
      "text/plain": [
       "  0%|          | 0/20 [00:00<?, ?it/s]"
      ]
     },
     "metadata": {},
     "output_type": "display_data"
    },
    {
     "name": "stdout",
     "output_type": "stream",
     "text": [
      "{'factors': 100, 'regularization': 0.001, 'iterations': 25, 'num_threads': 4, 'calculate_training_loss': True}\n"
     ]
    },
    {
     "data": {
      "application/vnd.jupyter.widget-view+json": {
       "model_id": "8dcf9ad69a63418391de61ca1a2e90ef",
       "version_major": 2,
       "version_minor": 0
      },
      "text/plain": [
       "  0%|          | 0/25 [00:00<?, ?it/s]"
      ]
     },
     "metadata": {},
     "output_type": "display_data"
    },
    {
     "name": "stdout",
     "output_type": "stream",
     "text": [
      "{'factors': 100, 'regularization': 0.001, 'iterations': 100, 'num_threads': 4, 'calculate_training_loss': True}\n"
     ]
    },
    {
     "data": {
      "application/vnd.jupyter.widget-view+json": {
       "model_id": "45b0e7a4419248ff9492b633bbede752",
       "version_major": 2,
       "version_minor": 0
      },
      "text/plain": [
       "  0%|          | 0/100 [00:00<?, ?it/s]"
      ]
     },
     "metadata": {},
     "output_type": "display_data"
    },
    {
     "name": "stdout",
     "output_type": "stream",
     "text": [
      "{'factors': 100, 'regularization': 0.0001, 'iterations': 10, 'num_threads': 4, 'calculate_training_loss': True}\n"
     ]
    },
    {
     "data": {
      "application/vnd.jupyter.widget-view+json": {
       "model_id": "d68110c7a4004c30b04416a7e4ecc88f",
       "version_major": 2,
       "version_minor": 0
      },
      "text/plain": [
       "  0%|          | 0/10 [00:00<?, ?it/s]"
      ]
     },
     "metadata": {},
     "output_type": "display_data"
    },
    {
     "name": "stdout",
     "output_type": "stream",
     "text": [
      "{'factors': 100, 'regularization': 0.0001, 'iterations': 15, 'num_threads': 4, 'calculate_training_loss': True}\n"
     ]
    },
    {
     "data": {
      "application/vnd.jupyter.widget-view+json": {
       "model_id": "2745f95d353042d18be108b64af430fc",
       "version_major": 2,
       "version_minor": 0
      },
      "text/plain": [
       "  0%|          | 0/15 [00:00<?, ?it/s]"
      ]
     },
     "metadata": {},
     "output_type": "display_data"
    },
    {
     "name": "stdout",
     "output_type": "stream",
     "text": [
      "{'factors': 100, 'regularization': 0.0001, 'iterations': 20, 'num_threads': 4, 'calculate_training_loss': True}\n"
     ]
    },
    {
     "data": {
      "application/vnd.jupyter.widget-view+json": {
       "model_id": "a15140a7fd45474195a04db33c7ab8fc",
       "version_major": 2,
       "version_minor": 0
      },
      "text/plain": [
       "  0%|          | 0/20 [00:00<?, ?it/s]"
      ]
     },
     "metadata": {},
     "output_type": "display_data"
    },
    {
     "name": "stdout",
     "output_type": "stream",
     "text": [
      "{'factors': 100, 'regularization': 0.0001, 'iterations': 25, 'num_threads': 4, 'calculate_training_loss': True}\n"
     ]
    },
    {
     "data": {
      "application/vnd.jupyter.widget-view+json": {
       "model_id": "0f18b8653e4b4a719dd9415b44a62332",
       "version_major": 2,
       "version_minor": 0
      },
      "text/plain": [
       "  0%|          | 0/25 [00:00<?, ?it/s]"
      ]
     },
     "metadata": {},
     "output_type": "display_data"
    },
    {
     "name": "stdout",
     "output_type": "stream",
     "text": [
      "{'factors': 100, 'regularization': 0.0001, 'iterations': 100, 'num_threads': 4, 'calculate_training_loss': True}\n"
     ]
    },
    {
     "data": {
      "application/vnd.jupyter.widget-view+json": {
       "model_id": "a4f9c40ed0d4411ea2ad79707eca63ee",
       "version_major": 2,
       "version_minor": 0
      },
      "text/plain": [
       "  0%|          | 0/100 [00:00<?, ?it/s]"
      ]
     },
     "metadata": {},
     "output_type": "display_data"
    },
    {
     "name": "stdout",
     "output_type": "stream",
     "text": [
      "{'factors': 100, 'regularization': 0.005, 'iterations': 10, 'num_threads': 4, 'calculate_training_loss': True}\n"
     ]
    },
    {
     "data": {
      "application/vnd.jupyter.widget-view+json": {
       "model_id": "6e2d09aaa8674e0ba88dcf61f1170602",
       "version_major": 2,
       "version_minor": 0
      },
      "text/plain": [
       "  0%|          | 0/10 [00:00<?, ?it/s]"
      ]
     },
     "metadata": {},
     "output_type": "display_data"
    },
    {
     "name": "stdout",
     "output_type": "stream",
     "text": [
      "{'factors': 100, 'regularization': 0.005, 'iterations': 15, 'num_threads': 4, 'calculate_training_loss': True}\n"
     ]
    },
    {
     "data": {
      "application/vnd.jupyter.widget-view+json": {
       "model_id": "8097723638634e43956b78c1a82c3cf6",
       "version_major": 2,
       "version_minor": 0
      },
      "text/plain": [
       "  0%|          | 0/15 [00:00<?, ?it/s]"
      ]
     },
     "metadata": {},
     "output_type": "display_data"
    },
    {
     "name": "stdout",
     "output_type": "stream",
     "text": [
      "{'factors': 100, 'regularization': 0.005, 'iterations': 20, 'num_threads': 4, 'calculate_training_loss': True}\n"
     ]
    },
    {
     "data": {
      "application/vnd.jupyter.widget-view+json": {
       "model_id": "b099b58c5579466caab5b710b5f67029",
       "version_major": 2,
       "version_minor": 0
      },
      "text/plain": [
       "  0%|          | 0/20 [00:00<?, ?it/s]"
      ]
     },
     "metadata": {},
     "output_type": "display_data"
    },
    {
     "name": "stdout",
     "output_type": "stream",
     "text": [
      "{'factors': 100, 'regularization': 0.005, 'iterations': 25, 'num_threads': 4, 'calculate_training_loss': True}\n"
     ]
    },
    {
     "data": {
      "application/vnd.jupyter.widget-view+json": {
       "model_id": "f97143c2f9fb4d56824df7fce579db47",
       "version_major": 2,
       "version_minor": 0
      },
      "text/plain": [
       "  0%|          | 0/25 [00:00<?, ?it/s]"
      ]
     },
     "metadata": {},
     "output_type": "display_data"
    },
    {
     "name": "stdout",
     "output_type": "stream",
     "text": [
      "{'factors': 100, 'regularization': 0.005, 'iterations': 100, 'num_threads': 4, 'calculate_training_loss': True}\n"
     ]
    },
    {
     "data": {
      "application/vnd.jupyter.widget-view+json": {
       "model_id": "a300b4cffa194454a6fb265c5686dcdc",
       "version_major": 2,
       "version_minor": 0
      },
      "text/plain": [
       "  0%|          | 0/100 [00:00<?, ?it/s]"
      ]
     },
     "metadata": {},
     "output_type": "display_data"
    },
    {
     "name": "stdout",
     "output_type": "stream",
     "text": [
      "{'factors': 100, 'regularization': 0.01, 'iterations': 10, 'num_threads': 4, 'calculate_training_loss': True}\n"
     ]
    },
    {
     "data": {
      "application/vnd.jupyter.widget-view+json": {
       "model_id": "c59810d3280045d9bb9a05a4d9df2ab5",
       "version_major": 2,
       "version_minor": 0
      },
      "text/plain": [
       "  0%|          | 0/10 [00:00<?, ?it/s]"
      ]
     },
     "metadata": {},
     "output_type": "display_data"
    },
    {
     "name": "stdout",
     "output_type": "stream",
     "text": [
      "{'factors': 100, 'regularization': 0.01, 'iterations': 15, 'num_threads': 4, 'calculate_training_loss': True}\n"
     ]
    },
    {
     "data": {
      "application/vnd.jupyter.widget-view+json": {
       "model_id": "b148d92470044a2a9f496514872bea7e",
       "version_major": 2,
       "version_minor": 0
      },
      "text/plain": [
       "  0%|          | 0/15 [00:00<?, ?it/s]"
      ]
     },
     "metadata": {},
     "output_type": "display_data"
    },
    {
     "name": "stdout",
     "output_type": "stream",
     "text": [
      "{'factors': 100, 'regularization': 0.01, 'iterations': 20, 'num_threads': 4, 'calculate_training_loss': True}\n"
     ]
    },
    {
     "data": {
      "application/vnd.jupyter.widget-view+json": {
       "model_id": "abd7d311fe2941bb8a0dd7f14eb1ef9f",
       "version_major": 2,
       "version_minor": 0
      },
      "text/plain": [
       "  0%|          | 0/20 [00:00<?, ?it/s]"
      ]
     },
     "metadata": {},
     "output_type": "display_data"
    },
    {
     "name": "stdout",
     "output_type": "stream",
     "text": [
      "{'factors': 100, 'regularization': 0.01, 'iterations': 25, 'num_threads': 4, 'calculate_training_loss': True}\n"
     ]
    },
    {
     "data": {
      "application/vnd.jupyter.widget-view+json": {
       "model_id": "263eb428a9d94675b78bb4b64690b956",
       "version_major": 2,
       "version_minor": 0
      },
      "text/plain": [
       "  0%|          | 0/25 [00:00<?, ?it/s]"
      ]
     },
     "metadata": {},
     "output_type": "display_data"
    },
    {
     "name": "stdout",
     "output_type": "stream",
     "text": [
      "{'factors': 100, 'regularization': 0.01, 'iterations': 100, 'num_threads': 4, 'calculate_training_loss': True}\n"
     ]
    },
    {
     "data": {
      "application/vnd.jupyter.widget-view+json": {
       "model_id": "7ef3963ae92b45649e8c9cca3df5620a",
       "version_major": 2,
       "version_minor": 0
      },
      "text/plain": [
       "  0%|          | 0/100 [00:00<?, ?it/s]"
      ]
     },
     "metadata": {},
     "output_type": "display_data"
    },
    {
     "name": "stdout",
     "output_type": "stream",
     "text": [
      "{'factors': 100, 'regularization': 0.1, 'iterations': 10, 'num_threads': 4, 'calculate_training_loss': True}\n"
     ]
    },
    {
     "data": {
      "application/vnd.jupyter.widget-view+json": {
       "model_id": "9d94b2b3d5e941d0aff1a7adf6a65af3",
       "version_major": 2,
       "version_minor": 0
      },
      "text/plain": [
       "  0%|          | 0/10 [00:00<?, ?it/s]"
      ]
     },
     "metadata": {},
     "output_type": "display_data"
    },
    {
     "name": "stdout",
     "output_type": "stream",
     "text": [
      "{'factors': 100, 'regularization': 0.1, 'iterations': 15, 'num_threads': 4, 'calculate_training_loss': True}\n"
     ]
    },
    {
     "data": {
      "application/vnd.jupyter.widget-view+json": {
       "model_id": "1c656982805a4b81b5a9b68c0a450869",
       "version_major": 2,
       "version_minor": 0
      },
      "text/plain": [
       "  0%|          | 0/15 [00:00<?, ?it/s]"
      ]
     },
     "metadata": {},
     "output_type": "display_data"
    },
    {
     "name": "stdout",
     "output_type": "stream",
     "text": [
      "{'factors': 100, 'regularization': 0.1, 'iterations': 20, 'num_threads': 4, 'calculate_training_loss': True}\n"
     ]
    },
    {
     "data": {
      "application/vnd.jupyter.widget-view+json": {
       "model_id": "fba5b66fd5d946be81bf154bcdc2ff40",
       "version_major": 2,
       "version_minor": 0
      },
      "text/plain": [
       "  0%|          | 0/20 [00:00<?, ?it/s]"
      ]
     },
     "metadata": {},
     "output_type": "display_data"
    },
    {
     "name": "stdout",
     "output_type": "stream",
     "text": [
      "{'factors': 100, 'regularization': 0.1, 'iterations': 25, 'num_threads': 4, 'calculate_training_loss': True}\n"
     ]
    },
    {
     "data": {
      "application/vnd.jupyter.widget-view+json": {
       "model_id": "78516d7a68244864b817f41ae966a174",
       "version_major": 2,
       "version_minor": 0
      },
      "text/plain": [
       "  0%|          | 0/25 [00:00<?, ?it/s]"
      ]
     },
     "metadata": {},
     "output_type": "display_data"
    },
    {
     "name": "stdout",
     "output_type": "stream",
     "text": [
      "{'factors': 100, 'regularization': 0.1, 'iterations': 100, 'num_threads': 4, 'calculate_training_loss': True}\n"
     ]
    },
    {
     "data": {
      "application/vnd.jupyter.widget-view+json": {
       "model_id": "00ff4481d4a945e2a37ec340200f0dab",
       "version_major": 2,
       "version_minor": 0
      },
      "text/plain": [
       "  0%|          | 0/100 [00:00<?, ?it/s]"
      ]
     },
     "metadata": {},
     "output_type": "display_data"
    },
    {
     "name": "stdout",
     "output_type": "stream",
     "text": [
      "{'factors': 100, 'regularization': 1, 'iterations': 10, 'num_threads': 4, 'calculate_training_loss': True}\n"
     ]
    },
    {
     "data": {
      "application/vnd.jupyter.widget-view+json": {
       "model_id": "18f6a187b23548d0a3f798a1f819f78c",
       "version_major": 2,
       "version_minor": 0
      },
      "text/plain": [
       "  0%|          | 0/10 [00:00<?, ?it/s]"
      ]
     },
     "metadata": {},
     "output_type": "display_data"
    },
    {
     "name": "stdout",
     "output_type": "stream",
     "text": [
      "{'factors': 100, 'regularization': 1, 'iterations': 15, 'num_threads': 4, 'calculate_training_loss': True}\n"
     ]
    },
    {
     "data": {
      "application/vnd.jupyter.widget-view+json": {
       "model_id": "6a32c8c8ae42477287f95348dfa40dee",
       "version_major": 2,
       "version_minor": 0
      },
      "text/plain": [
       "  0%|          | 0/15 [00:00<?, ?it/s]"
      ]
     },
     "metadata": {},
     "output_type": "display_data"
    },
    {
     "name": "stdout",
     "output_type": "stream",
     "text": [
      "{'factors': 100, 'regularization': 1, 'iterations': 20, 'num_threads': 4, 'calculate_training_loss': True}\n"
     ]
    },
    {
     "data": {
      "application/vnd.jupyter.widget-view+json": {
       "model_id": "32e42e7784234f44b680774045522b60",
       "version_major": 2,
       "version_minor": 0
      },
      "text/plain": [
       "  0%|          | 0/20 [00:00<?, ?it/s]"
      ]
     },
     "metadata": {},
     "output_type": "display_data"
    },
    {
     "name": "stdout",
     "output_type": "stream",
     "text": [
      "{'factors': 100, 'regularization': 1, 'iterations': 25, 'num_threads': 4, 'calculate_training_loss': True}\n"
     ]
    },
    {
     "data": {
      "application/vnd.jupyter.widget-view+json": {
       "model_id": "fdb667bae6aa445db749ef08b7d6eb51",
       "version_major": 2,
       "version_minor": 0
      },
      "text/plain": [
       "  0%|          | 0/25 [00:00<?, ?it/s]"
      ]
     },
     "metadata": {},
     "output_type": "display_data"
    },
    {
     "name": "stdout",
     "output_type": "stream",
     "text": [
      "{'factors': 100, 'regularization': 1, 'iterations': 100, 'num_threads': 4, 'calculate_training_loss': True}\n"
     ]
    },
    {
     "data": {
      "application/vnd.jupyter.widget-view+json": {
       "model_id": "1c1630c156e84630b3d467889edfd8d7",
       "version_major": 2,
       "version_minor": 0
      },
      "text/plain": [
       "  0%|          | 0/100 [00:00<?, ?it/s]"
      ]
     },
     "metadata": {},
     "output_type": "display_data"
    },
    {
     "name": "stdout",
     "output_type": "stream",
     "text": [
      "{'factors': 150, 'regularization': 0.001, 'iterations': 10, 'num_threads': 4, 'calculate_training_loss': True}\n"
     ]
    },
    {
     "data": {
      "application/vnd.jupyter.widget-view+json": {
       "model_id": "9ff7d368b7124d24a93e6b7d66409229",
       "version_major": 2,
       "version_minor": 0
      },
      "text/plain": [
       "  0%|          | 0/10 [00:00<?, ?it/s]"
      ]
     },
     "metadata": {},
     "output_type": "display_data"
    },
    {
     "name": "stdout",
     "output_type": "stream",
     "text": [
      "{'factors': 150, 'regularization': 0.001, 'iterations': 15, 'num_threads': 4, 'calculate_training_loss': True}\n"
     ]
    },
    {
     "data": {
      "application/vnd.jupyter.widget-view+json": {
       "model_id": "3689b9d18a304a2db4aa8eca97aba870",
       "version_major": 2,
       "version_minor": 0
      },
      "text/plain": [
       "  0%|          | 0/15 [00:00<?, ?it/s]"
      ]
     },
     "metadata": {},
     "output_type": "display_data"
    },
    {
     "name": "stdout",
     "output_type": "stream",
     "text": [
      "{'factors': 150, 'regularization': 0.001, 'iterations': 20, 'num_threads': 4, 'calculate_training_loss': True}\n"
     ]
    },
    {
     "data": {
      "application/vnd.jupyter.widget-view+json": {
       "model_id": "2766993a749f48ecb596d23d6f570ab6",
       "version_major": 2,
       "version_minor": 0
      },
      "text/plain": [
       "  0%|          | 0/20 [00:00<?, ?it/s]"
      ]
     },
     "metadata": {},
     "output_type": "display_data"
    },
    {
     "name": "stdout",
     "output_type": "stream",
     "text": [
      "{'factors': 150, 'regularization': 0.001, 'iterations': 25, 'num_threads': 4, 'calculate_training_loss': True}\n"
     ]
    },
    {
     "data": {
      "application/vnd.jupyter.widget-view+json": {
       "model_id": "ed724996d18e423a86a6b4644e77558c",
       "version_major": 2,
       "version_minor": 0
      },
      "text/plain": [
       "  0%|          | 0/25 [00:00<?, ?it/s]"
      ]
     },
     "metadata": {},
     "output_type": "display_data"
    },
    {
     "name": "stdout",
     "output_type": "stream",
     "text": [
      "{'factors': 150, 'regularization': 0.001, 'iterations': 100, 'num_threads': 4, 'calculate_training_loss': True}\n"
     ]
    },
    {
     "data": {
      "application/vnd.jupyter.widget-view+json": {
       "model_id": "719b0c5117564a18816f9a97c15d5372",
       "version_major": 2,
       "version_minor": 0
      },
      "text/plain": [
       "  0%|          | 0/100 [00:00<?, ?it/s]"
      ]
     },
     "metadata": {},
     "output_type": "display_data"
    },
    {
     "name": "stdout",
     "output_type": "stream",
     "text": [
      "{'factors': 150, 'regularization': 0.0001, 'iterations': 10, 'num_threads': 4, 'calculate_training_loss': True}\n"
     ]
    },
    {
     "data": {
      "application/vnd.jupyter.widget-view+json": {
       "model_id": "af67aaaa78c04fd5aa2f7700eaa3d905",
       "version_major": 2,
       "version_minor": 0
      },
      "text/plain": [
       "  0%|          | 0/10 [00:00<?, ?it/s]"
      ]
     },
     "metadata": {},
     "output_type": "display_data"
    },
    {
     "name": "stdout",
     "output_type": "stream",
     "text": [
      "{'factors': 150, 'regularization': 0.0001, 'iterations': 15, 'num_threads': 4, 'calculate_training_loss': True}\n"
     ]
    },
    {
     "data": {
      "application/vnd.jupyter.widget-view+json": {
       "model_id": "68ebf3c886f244eeaf4af09f2451eee1",
       "version_major": 2,
       "version_minor": 0
      },
      "text/plain": [
       "  0%|          | 0/15 [00:00<?, ?it/s]"
      ]
     },
     "metadata": {},
     "output_type": "display_data"
    },
    {
     "name": "stdout",
     "output_type": "stream",
     "text": [
      "{'factors': 150, 'regularization': 0.0001, 'iterations': 20, 'num_threads': 4, 'calculate_training_loss': True}\n"
     ]
    },
    {
     "data": {
      "application/vnd.jupyter.widget-view+json": {
       "model_id": "9fa8b93c9c264d6f9bc8095d43094b5f",
       "version_major": 2,
       "version_minor": 0
      },
      "text/plain": [
       "  0%|          | 0/20 [00:00<?, ?it/s]"
      ]
     },
     "metadata": {},
     "output_type": "display_data"
    },
    {
     "name": "stdout",
     "output_type": "stream",
     "text": [
      "{'factors': 150, 'regularization': 0.0001, 'iterations': 25, 'num_threads': 4, 'calculate_training_loss': True}\n"
     ]
    },
    {
     "data": {
      "application/vnd.jupyter.widget-view+json": {
       "model_id": "26cf9046fc6747d593edc4a5b9c98f9c",
       "version_major": 2,
       "version_minor": 0
      },
      "text/plain": [
       "  0%|          | 0/25 [00:00<?, ?it/s]"
      ]
     },
     "metadata": {},
     "output_type": "display_data"
    },
    {
     "name": "stdout",
     "output_type": "stream",
     "text": [
      "{'factors': 150, 'regularization': 0.0001, 'iterations': 100, 'num_threads': 4, 'calculate_training_loss': True}\n"
     ]
    },
    {
     "data": {
      "application/vnd.jupyter.widget-view+json": {
       "model_id": "5a1da4c1e44c491fab34fc7c4e3450aa",
       "version_major": 2,
       "version_minor": 0
      },
      "text/plain": [
       "  0%|          | 0/100 [00:00<?, ?it/s]"
      ]
     },
     "metadata": {},
     "output_type": "display_data"
    },
    {
     "name": "stdout",
     "output_type": "stream",
     "text": [
      "{'factors': 150, 'regularization': 0.005, 'iterations': 10, 'num_threads': 4, 'calculate_training_loss': True}\n"
     ]
    },
    {
     "data": {
      "application/vnd.jupyter.widget-view+json": {
       "model_id": "a98285e781c643d1b8439d8fd3d4f390",
       "version_major": 2,
       "version_minor": 0
      },
      "text/plain": [
       "  0%|          | 0/10 [00:00<?, ?it/s]"
      ]
     },
     "metadata": {},
     "output_type": "display_data"
    },
    {
     "name": "stdout",
     "output_type": "stream",
     "text": [
      "{'factors': 150, 'regularization': 0.005, 'iterations': 15, 'num_threads': 4, 'calculate_training_loss': True}\n"
     ]
    },
    {
     "data": {
      "application/vnd.jupyter.widget-view+json": {
       "model_id": "62b5b278394643e7a913555d800bf6c5",
       "version_major": 2,
       "version_minor": 0
      },
      "text/plain": [
       "  0%|          | 0/15 [00:00<?, ?it/s]"
      ]
     },
     "metadata": {},
     "output_type": "display_data"
    },
    {
     "name": "stdout",
     "output_type": "stream",
     "text": [
      "{'factors': 150, 'regularization': 0.005, 'iterations': 20, 'num_threads': 4, 'calculate_training_loss': True}\n"
     ]
    },
    {
     "data": {
      "application/vnd.jupyter.widget-view+json": {
       "model_id": "b7cb713bb8624ae688a3167bf21bc458",
       "version_major": 2,
       "version_minor": 0
      },
      "text/plain": [
       "  0%|          | 0/20 [00:00<?, ?it/s]"
      ]
     },
     "metadata": {},
     "output_type": "display_data"
    },
    {
     "name": "stdout",
     "output_type": "stream",
     "text": [
      "{'factors': 150, 'regularization': 0.005, 'iterations': 25, 'num_threads': 4, 'calculate_training_loss': True}\n"
     ]
    },
    {
     "data": {
      "application/vnd.jupyter.widget-view+json": {
       "model_id": "72f00501b4c84d9e9cf0f465d4468b1d",
       "version_major": 2,
       "version_minor": 0
      },
      "text/plain": [
       "  0%|          | 0/25 [00:00<?, ?it/s]"
      ]
     },
     "metadata": {},
     "output_type": "display_data"
    },
    {
     "name": "stdout",
     "output_type": "stream",
     "text": [
      "{'factors': 150, 'regularization': 0.005, 'iterations': 100, 'num_threads': 4, 'calculate_training_loss': True}\n"
     ]
    },
    {
     "data": {
      "application/vnd.jupyter.widget-view+json": {
       "model_id": "68669946d1694eed87336b02be9ef73d",
       "version_major": 2,
       "version_minor": 0
      },
      "text/plain": [
       "  0%|          | 0/100 [00:00<?, ?it/s]"
      ]
     },
     "metadata": {},
     "output_type": "display_data"
    },
    {
     "name": "stdout",
     "output_type": "stream",
     "text": [
      "{'factors': 150, 'regularization': 0.01, 'iterations': 10, 'num_threads': 4, 'calculate_training_loss': True}\n"
     ]
    },
    {
     "data": {
      "application/vnd.jupyter.widget-view+json": {
       "model_id": "e4e6e7dfd99e4084b405c4004d5864df",
       "version_major": 2,
       "version_minor": 0
      },
      "text/plain": [
       "  0%|          | 0/10 [00:00<?, ?it/s]"
      ]
     },
     "metadata": {},
     "output_type": "display_data"
    },
    {
     "name": "stdout",
     "output_type": "stream",
     "text": [
      "{'factors': 150, 'regularization': 0.01, 'iterations': 15, 'num_threads': 4, 'calculate_training_loss': True}\n"
     ]
    },
    {
     "data": {
      "application/vnd.jupyter.widget-view+json": {
       "model_id": "82bf0f161c174f1cb4cf1c9249b1dd37",
       "version_major": 2,
       "version_minor": 0
      },
      "text/plain": [
       "  0%|          | 0/15 [00:00<?, ?it/s]"
      ]
     },
     "metadata": {},
     "output_type": "display_data"
    },
    {
     "name": "stdout",
     "output_type": "stream",
     "text": [
      "{'factors': 150, 'regularization': 0.01, 'iterations': 20, 'num_threads': 4, 'calculate_training_loss': True}\n"
     ]
    },
    {
     "data": {
      "application/vnd.jupyter.widget-view+json": {
       "model_id": "bc4672920e3e479795f8d1064d939df7",
       "version_major": 2,
       "version_minor": 0
      },
      "text/plain": [
       "  0%|          | 0/20 [00:00<?, ?it/s]"
      ]
     },
     "metadata": {},
     "output_type": "display_data"
    },
    {
     "name": "stdout",
     "output_type": "stream",
     "text": [
      "{'factors': 150, 'regularization': 0.01, 'iterations': 25, 'num_threads': 4, 'calculate_training_loss': True}\n"
     ]
    },
    {
     "data": {
      "application/vnd.jupyter.widget-view+json": {
       "model_id": "d8b8c888b6cb4c55ae43ec3040a1aa71",
       "version_major": 2,
       "version_minor": 0
      },
      "text/plain": [
       "  0%|          | 0/25 [00:00<?, ?it/s]"
      ]
     },
     "metadata": {},
     "output_type": "display_data"
    },
    {
     "name": "stdout",
     "output_type": "stream",
     "text": [
      "{'factors': 150, 'regularization': 0.01, 'iterations': 100, 'num_threads': 4, 'calculate_training_loss': True}\n"
     ]
    },
    {
     "data": {
      "application/vnd.jupyter.widget-view+json": {
       "model_id": "1a113d9fb09a47d6aa6005e660faafaf",
       "version_major": 2,
       "version_minor": 0
      },
      "text/plain": [
       "  0%|          | 0/100 [00:00<?, ?it/s]"
      ]
     },
     "metadata": {},
     "output_type": "display_data"
    },
    {
     "name": "stdout",
     "output_type": "stream",
     "text": [
      "{'factors': 150, 'regularization': 0.1, 'iterations': 10, 'num_threads': 4, 'calculate_training_loss': True}\n"
     ]
    },
    {
     "data": {
      "application/vnd.jupyter.widget-view+json": {
       "model_id": "79b7358eb6d746508f7cd8d10aca64cd",
       "version_major": 2,
       "version_minor": 0
      },
      "text/plain": [
       "  0%|          | 0/10 [00:00<?, ?it/s]"
      ]
     },
     "metadata": {},
     "output_type": "display_data"
    },
    {
     "name": "stdout",
     "output_type": "stream",
     "text": [
      "{'factors': 150, 'regularization': 0.1, 'iterations': 15, 'num_threads': 4, 'calculate_training_loss': True}\n"
     ]
    },
    {
     "data": {
      "application/vnd.jupyter.widget-view+json": {
       "model_id": "248966a4946247dea9d1883dc667431d",
       "version_major": 2,
       "version_minor": 0
      },
      "text/plain": [
       "  0%|          | 0/15 [00:00<?, ?it/s]"
      ]
     },
     "metadata": {},
     "output_type": "display_data"
    },
    {
     "name": "stdout",
     "output_type": "stream",
     "text": [
      "{'factors': 150, 'regularization': 0.1, 'iterations': 20, 'num_threads': 4, 'calculate_training_loss': True}\n"
     ]
    },
    {
     "data": {
      "application/vnd.jupyter.widget-view+json": {
       "model_id": "39176947d5404ac6b29d8104bca1a980",
       "version_major": 2,
       "version_minor": 0
      },
      "text/plain": [
       "  0%|          | 0/20 [00:00<?, ?it/s]"
      ]
     },
     "metadata": {},
     "output_type": "display_data"
    },
    {
     "name": "stdout",
     "output_type": "stream",
     "text": [
      "{'factors': 150, 'regularization': 0.1, 'iterations': 25, 'num_threads': 4, 'calculate_training_loss': True}\n"
     ]
    },
    {
     "data": {
      "application/vnd.jupyter.widget-view+json": {
       "model_id": "edcff89826bb4d8eaf3e262f33c18742",
       "version_major": 2,
       "version_minor": 0
      },
      "text/plain": [
       "  0%|          | 0/25 [00:00<?, ?it/s]"
      ]
     },
     "metadata": {},
     "output_type": "display_data"
    },
    {
     "name": "stdout",
     "output_type": "stream",
     "text": [
      "{'factors': 150, 'regularization': 0.1, 'iterations': 100, 'num_threads': 4, 'calculate_training_loss': True}\n"
     ]
    },
    {
     "data": {
      "application/vnd.jupyter.widget-view+json": {
       "model_id": "65446453f97e4cdb8511fc7428e87299",
       "version_major": 2,
       "version_minor": 0
      },
      "text/plain": [
       "  0%|          | 0/100 [00:00<?, ?it/s]"
      ]
     },
     "metadata": {},
     "output_type": "display_data"
    },
    {
     "name": "stdout",
     "output_type": "stream",
     "text": [
      "{'factors': 150, 'regularization': 1, 'iterations': 10, 'num_threads': 4, 'calculate_training_loss': True}\n"
     ]
    },
    {
     "data": {
      "application/vnd.jupyter.widget-view+json": {
       "model_id": "679775c0e84c4586ba1b8e7a39ed45c5",
       "version_major": 2,
       "version_minor": 0
      },
      "text/plain": [
       "  0%|          | 0/10 [00:00<?, ?it/s]"
      ]
     },
     "metadata": {},
     "output_type": "display_data"
    },
    {
     "name": "stdout",
     "output_type": "stream",
     "text": [
      "{'factors': 150, 'regularization': 1, 'iterations': 15, 'num_threads': 4, 'calculate_training_loss': True}\n"
     ]
    },
    {
     "data": {
      "application/vnd.jupyter.widget-view+json": {
       "model_id": "74a80b04f41b4717b495c44d8cf7eae3",
       "version_major": 2,
       "version_minor": 0
      },
      "text/plain": [
       "  0%|          | 0/15 [00:00<?, ?it/s]"
      ]
     },
     "metadata": {},
     "output_type": "display_data"
    },
    {
     "name": "stdout",
     "output_type": "stream",
     "text": [
      "{'factors': 150, 'regularization': 1, 'iterations': 20, 'num_threads': 4, 'calculate_training_loss': True}\n"
     ]
    },
    {
     "data": {
      "application/vnd.jupyter.widget-view+json": {
       "model_id": "41bf794299a44c64975052963c1ef917",
       "version_major": 2,
       "version_minor": 0
      },
      "text/plain": [
       "  0%|          | 0/20 [00:00<?, ?it/s]"
      ]
     },
     "metadata": {},
     "output_type": "display_data"
    },
    {
     "name": "stdout",
     "output_type": "stream",
     "text": [
      "{'factors': 150, 'regularization': 1, 'iterations': 25, 'num_threads': 4, 'calculate_training_loss': True}\n"
     ]
    },
    {
     "data": {
      "application/vnd.jupyter.widget-view+json": {
       "model_id": "1c4c49b2af4c4d6c874cb6a31770f341",
       "version_major": 2,
       "version_minor": 0
      },
      "text/plain": [
       "  0%|          | 0/25 [00:00<?, ?it/s]"
      ]
     },
     "metadata": {},
     "output_type": "display_data"
    },
    {
     "name": "stdout",
     "output_type": "stream",
     "text": [
      "{'factors': 150, 'regularization': 1, 'iterations': 100, 'num_threads': 4, 'calculate_training_loss': True}\n"
     ]
    },
    {
     "data": {
      "application/vnd.jupyter.widget-view+json": {
       "model_id": "ae5e9ca6fe054cf6b5a29fabde3ed9c5",
       "version_major": 2,
       "version_minor": 0
      },
      "text/plain": [
       "  0%|          | 0/100 [00:00<?, ?it/s]"
      ]
     },
     "metadata": {},
     "output_type": "display_data"
    },
    {
     "name": "stdout",
     "output_type": "stream",
     "text": [
      "{'factors': 200, 'regularization': 0.001, 'iterations': 10, 'num_threads': 4, 'calculate_training_loss': True}\n"
     ]
    },
    {
     "data": {
      "application/vnd.jupyter.widget-view+json": {
       "model_id": "7da69677cd2849dba2c3e6c52761d56e",
       "version_major": 2,
       "version_minor": 0
      },
      "text/plain": [
       "  0%|          | 0/10 [00:00<?, ?it/s]"
      ]
     },
     "metadata": {},
     "output_type": "display_data"
    },
    {
     "name": "stdout",
     "output_type": "stream",
     "text": [
      "{'factors': 200, 'regularization': 0.001, 'iterations': 15, 'num_threads': 4, 'calculate_training_loss': True}\n"
     ]
    },
    {
     "data": {
      "application/vnd.jupyter.widget-view+json": {
       "model_id": "8c857e195bb0423ebe7afe4cfc731458",
       "version_major": 2,
       "version_minor": 0
      },
      "text/plain": [
       "  0%|          | 0/15 [00:00<?, ?it/s]"
      ]
     },
     "metadata": {},
     "output_type": "display_data"
    },
    {
     "name": "stdout",
     "output_type": "stream",
     "text": [
      "{'factors': 200, 'regularization': 0.001, 'iterations': 20, 'num_threads': 4, 'calculate_training_loss': True}\n"
     ]
    },
    {
     "data": {
      "application/vnd.jupyter.widget-view+json": {
       "model_id": "7cfe409daae441c0aec4554750c64dc5",
       "version_major": 2,
       "version_minor": 0
      },
      "text/plain": [
       "  0%|          | 0/20 [00:00<?, ?it/s]"
      ]
     },
     "metadata": {},
     "output_type": "display_data"
    },
    {
     "name": "stdout",
     "output_type": "stream",
     "text": [
      "{'factors': 200, 'regularization': 0.001, 'iterations': 25, 'num_threads': 4, 'calculate_training_loss': True}\n"
     ]
    },
    {
     "data": {
      "application/vnd.jupyter.widget-view+json": {
       "model_id": "a89b397789ec4512a80c795b10b439b0",
       "version_major": 2,
       "version_minor": 0
      },
      "text/plain": [
       "  0%|          | 0/25 [00:00<?, ?it/s]"
      ]
     },
     "metadata": {},
     "output_type": "display_data"
    },
    {
     "name": "stdout",
     "output_type": "stream",
     "text": [
      "{'factors': 200, 'regularization': 0.001, 'iterations': 100, 'num_threads': 4, 'calculate_training_loss': True}\n"
     ]
    },
    {
     "data": {
      "application/vnd.jupyter.widget-view+json": {
       "model_id": "4300664fcb9f47f9bed381a1112f12aa",
       "version_major": 2,
       "version_minor": 0
      },
      "text/plain": [
       "  0%|          | 0/100 [00:00<?, ?it/s]"
      ]
     },
     "metadata": {},
     "output_type": "display_data"
    },
    {
     "name": "stdout",
     "output_type": "stream",
     "text": [
      "{'factors': 200, 'regularization': 0.0001, 'iterations': 10, 'num_threads': 4, 'calculate_training_loss': True}\n"
     ]
    },
    {
     "data": {
      "application/vnd.jupyter.widget-view+json": {
       "model_id": "41c23271c694473491975a7fac7b70bf",
       "version_major": 2,
       "version_minor": 0
      },
      "text/plain": [
       "  0%|          | 0/10 [00:00<?, ?it/s]"
      ]
     },
     "metadata": {},
     "output_type": "display_data"
    },
    {
     "name": "stdout",
     "output_type": "stream",
     "text": [
      "{'factors': 200, 'regularization': 0.0001, 'iterations': 15, 'num_threads': 4, 'calculate_training_loss': True}\n"
     ]
    },
    {
     "data": {
      "application/vnd.jupyter.widget-view+json": {
       "model_id": "8b81875a2a6644b0a822eb8709d41cf2",
       "version_major": 2,
       "version_minor": 0
      },
      "text/plain": [
       "  0%|          | 0/15 [00:00<?, ?it/s]"
      ]
     },
     "metadata": {},
     "output_type": "display_data"
    },
    {
     "name": "stdout",
     "output_type": "stream",
     "text": [
      "{'factors': 200, 'regularization': 0.0001, 'iterations': 20, 'num_threads': 4, 'calculate_training_loss': True}\n"
     ]
    },
    {
     "data": {
      "application/vnd.jupyter.widget-view+json": {
       "model_id": "40e659695df046ba9e9f50c169c7e535",
       "version_major": 2,
       "version_minor": 0
      },
      "text/plain": [
       "  0%|          | 0/20 [00:00<?, ?it/s]"
      ]
     },
     "metadata": {},
     "output_type": "display_data"
    },
    {
     "name": "stdout",
     "output_type": "stream",
     "text": [
      "{'factors': 200, 'regularization': 0.0001, 'iterations': 25, 'num_threads': 4, 'calculate_training_loss': True}\n"
     ]
    },
    {
     "data": {
      "application/vnd.jupyter.widget-view+json": {
       "model_id": "8137d311d59842149ece3c19bb0faeac",
       "version_major": 2,
       "version_minor": 0
      },
      "text/plain": [
       "  0%|          | 0/25 [00:00<?, ?it/s]"
      ]
     },
     "metadata": {},
     "output_type": "display_data"
    },
    {
     "name": "stdout",
     "output_type": "stream",
     "text": [
      "{'factors': 200, 'regularization': 0.0001, 'iterations': 100, 'num_threads': 4, 'calculate_training_loss': True}\n"
     ]
    },
    {
     "data": {
      "application/vnd.jupyter.widget-view+json": {
       "model_id": "9b0aaa29e8504e02831400b8ebb5421e",
       "version_major": 2,
       "version_minor": 0
      },
      "text/plain": [
       "  0%|          | 0/100 [00:00<?, ?it/s]"
      ]
     },
     "metadata": {},
     "output_type": "display_data"
    },
    {
     "name": "stdout",
     "output_type": "stream",
     "text": [
      "{'factors': 200, 'regularization': 0.005, 'iterations': 10, 'num_threads': 4, 'calculate_training_loss': True}\n"
     ]
    },
    {
     "data": {
      "application/vnd.jupyter.widget-view+json": {
       "model_id": "24237f2a095a4349912c64ce50f56448",
       "version_major": 2,
       "version_minor": 0
      },
      "text/plain": [
       "  0%|          | 0/10 [00:00<?, ?it/s]"
      ]
     },
     "metadata": {},
     "output_type": "display_data"
    },
    {
     "name": "stdout",
     "output_type": "stream",
     "text": [
      "{'factors': 200, 'regularization': 0.005, 'iterations': 15, 'num_threads': 4, 'calculate_training_loss': True}\n"
     ]
    },
    {
     "data": {
      "application/vnd.jupyter.widget-view+json": {
       "model_id": "9ef9b1fbebb34892afac777cfa280030",
       "version_major": 2,
       "version_minor": 0
      },
      "text/plain": [
       "  0%|          | 0/15 [00:00<?, ?it/s]"
      ]
     },
     "metadata": {},
     "output_type": "display_data"
    },
    {
     "name": "stdout",
     "output_type": "stream",
     "text": [
      "{'factors': 200, 'regularization': 0.005, 'iterations': 20, 'num_threads': 4, 'calculate_training_loss': True}\n"
     ]
    },
    {
     "data": {
      "application/vnd.jupyter.widget-view+json": {
       "model_id": "91588f3f7d3f4b2f9383d2fc44cbf8b5",
       "version_major": 2,
       "version_minor": 0
      },
      "text/plain": [
       "  0%|          | 0/20 [00:00<?, ?it/s]"
      ]
     },
     "metadata": {},
     "output_type": "display_data"
    },
    {
     "name": "stdout",
     "output_type": "stream",
     "text": [
      "{'factors': 200, 'regularization': 0.005, 'iterations': 25, 'num_threads': 4, 'calculate_training_loss': True}\n"
     ]
    },
    {
     "data": {
      "application/vnd.jupyter.widget-view+json": {
       "model_id": "e2ef6eda438f4aa69397741f47794943",
       "version_major": 2,
       "version_minor": 0
      },
      "text/plain": [
       "  0%|          | 0/25 [00:00<?, ?it/s]"
      ]
     },
     "metadata": {},
     "output_type": "display_data"
    },
    {
     "name": "stdout",
     "output_type": "stream",
     "text": [
      "{'factors': 200, 'regularization': 0.005, 'iterations': 100, 'num_threads': 4, 'calculate_training_loss': True}\n"
     ]
    },
    {
     "data": {
      "application/vnd.jupyter.widget-view+json": {
       "model_id": "2e9a0e9dc1d44b84b175050ac1fd1322",
       "version_major": 2,
       "version_minor": 0
      },
      "text/plain": [
       "  0%|          | 0/100 [00:00<?, ?it/s]"
      ]
     },
     "metadata": {},
     "output_type": "display_data"
    },
    {
     "name": "stdout",
     "output_type": "stream",
     "text": [
      "{'factors': 200, 'regularization': 0.01, 'iterations': 10, 'num_threads': 4, 'calculate_training_loss': True}\n"
     ]
    },
    {
     "data": {
      "application/vnd.jupyter.widget-view+json": {
       "model_id": "735cd2f0a07e42c09756ba105fdbd4d0",
       "version_major": 2,
       "version_minor": 0
      },
      "text/plain": [
       "  0%|          | 0/10 [00:00<?, ?it/s]"
      ]
     },
     "metadata": {},
     "output_type": "display_data"
    },
    {
     "name": "stdout",
     "output_type": "stream",
     "text": [
      "{'factors': 200, 'regularization': 0.01, 'iterations': 15, 'num_threads': 4, 'calculate_training_loss': True}\n"
     ]
    },
    {
     "data": {
      "application/vnd.jupyter.widget-view+json": {
       "model_id": "ae251b00f8ab47a6bd17ff55988a64e5",
       "version_major": 2,
       "version_minor": 0
      },
      "text/plain": [
       "  0%|          | 0/15 [00:00<?, ?it/s]"
      ]
     },
     "metadata": {},
     "output_type": "display_data"
    },
    {
     "name": "stdout",
     "output_type": "stream",
     "text": [
      "{'factors': 200, 'regularization': 0.01, 'iterations': 20, 'num_threads': 4, 'calculate_training_loss': True}\n"
     ]
    },
    {
     "data": {
      "application/vnd.jupyter.widget-view+json": {
       "model_id": "65a3e26c95674c60805e4e766e0b4e23",
       "version_major": 2,
       "version_minor": 0
      },
      "text/plain": [
       "  0%|          | 0/20 [00:00<?, ?it/s]"
      ]
     },
     "metadata": {},
     "output_type": "display_data"
    },
    {
     "name": "stdout",
     "output_type": "stream",
     "text": [
      "{'factors': 200, 'regularization': 0.01, 'iterations': 25, 'num_threads': 4, 'calculate_training_loss': True}\n"
     ]
    },
    {
     "data": {
      "application/vnd.jupyter.widget-view+json": {
       "model_id": "98e6fd050a8e4bc696c78f0df65a334c",
       "version_major": 2,
       "version_minor": 0
      },
      "text/plain": [
       "  0%|          | 0/25 [00:00<?, ?it/s]"
      ]
     },
     "metadata": {},
     "output_type": "display_data"
    },
    {
     "name": "stdout",
     "output_type": "stream",
     "text": [
      "{'factors': 200, 'regularization': 0.01, 'iterations': 100, 'num_threads': 4, 'calculate_training_loss': True}\n"
     ]
    },
    {
     "data": {
      "application/vnd.jupyter.widget-view+json": {
       "model_id": "c8dadd14c95e42c08999c14598e92b6c",
       "version_major": 2,
       "version_minor": 0
      },
      "text/plain": [
       "  0%|          | 0/100 [00:00<?, ?it/s]"
      ]
     },
     "metadata": {},
     "output_type": "display_data"
    },
    {
     "name": "stdout",
     "output_type": "stream",
     "text": [
      "{'factors': 200, 'regularization': 0.1, 'iterations': 10, 'num_threads': 4, 'calculate_training_loss': True}\n"
     ]
    },
    {
     "data": {
      "application/vnd.jupyter.widget-view+json": {
       "model_id": "39c81783c5ad4e29ada65174600e5d86",
       "version_major": 2,
       "version_minor": 0
      },
      "text/plain": [
       "  0%|          | 0/10 [00:00<?, ?it/s]"
      ]
     },
     "metadata": {},
     "output_type": "display_data"
    },
    {
     "name": "stdout",
     "output_type": "stream",
     "text": [
      "{'factors': 200, 'regularization': 0.1, 'iterations': 15, 'num_threads': 4, 'calculate_training_loss': True}\n"
     ]
    },
    {
     "data": {
      "application/vnd.jupyter.widget-view+json": {
       "model_id": "e64dd70cb9fb44c49fece899d44ee807",
       "version_major": 2,
       "version_minor": 0
      },
      "text/plain": [
       "  0%|          | 0/15 [00:00<?, ?it/s]"
      ]
     },
     "metadata": {},
     "output_type": "display_data"
    },
    {
     "name": "stdout",
     "output_type": "stream",
     "text": [
      "{'factors': 200, 'regularization': 0.1, 'iterations': 20, 'num_threads': 4, 'calculate_training_loss': True}\n"
     ]
    },
    {
     "data": {
      "application/vnd.jupyter.widget-view+json": {
       "model_id": "440c0c2d214e4be1ac9b6533c359c332",
       "version_major": 2,
       "version_minor": 0
      },
      "text/plain": [
       "  0%|          | 0/20 [00:00<?, ?it/s]"
      ]
     },
     "metadata": {},
     "output_type": "display_data"
    },
    {
     "name": "stdout",
     "output_type": "stream",
     "text": [
      "{'factors': 200, 'regularization': 0.1, 'iterations': 25, 'num_threads': 4, 'calculate_training_loss': True}\n"
     ]
    },
    {
     "data": {
      "application/vnd.jupyter.widget-view+json": {
       "model_id": "22a30adbadfe4e0e99cded9edf47f239",
       "version_major": 2,
       "version_minor": 0
      },
      "text/plain": [
       "  0%|          | 0/25 [00:00<?, ?it/s]"
      ]
     },
     "metadata": {},
     "output_type": "display_data"
    },
    {
     "name": "stdout",
     "output_type": "stream",
     "text": [
      "{'factors': 200, 'regularization': 0.1, 'iterations': 100, 'num_threads': 4, 'calculate_training_loss': True}\n"
     ]
    },
    {
     "data": {
      "application/vnd.jupyter.widget-view+json": {
       "model_id": "d8f9853f91164a0eb585621bee8374c4",
       "version_major": 2,
       "version_minor": 0
      },
      "text/plain": [
       "  0%|          | 0/100 [00:00<?, ?it/s]"
      ]
     },
     "metadata": {},
     "output_type": "display_data"
    },
    {
     "name": "stdout",
     "output_type": "stream",
     "text": [
      "{'factors': 200, 'regularization': 1, 'iterations': 10, 'num_threads': 4, 'calculate_training_loss': True}\n"
     ]
    },
    {
     "data": {
      "application/vnd.jupyter.widget-view+json": {
       "model_id": "b2a1291889114ae9be3c2d92132341f4",
       "version_major": 2,
       "version_minor": 0
      },
      "text/plain": [
       "  0%|          | 0/10 [00:00<?, ?it/s]"
      ]
     },
     "metadata": {},
     "output_type": "display_data"
    },
    {
     "name": "stdout",
     "output_type": "stream",
     "text": [
      "{'factors': 200, 'regularization': 1, 'iterations': 15, 'num_threads': 4, 'calculate_training_loss': True}\n"
     ]
    },
    {
     "data": {
      "application/vnd.jupyter.widget-view+json": {
       "model_id": "d0bfabd608d944b3b12eb7dcf828f200",
       "version_major": 2,
       "version_minor": 0
      },
      "text/plain": [
       "  0%|          | 0/15 [00:00<?, ?it/s]"
      ]
     },
     "metadata": {},
     "output_type": "display_data"
    },
    {
     "name": "stdout",
     "output_type": "stream",
     "text": [
      "{'factors': 200, 'regularization': 1, 'iterations': 20, 'num_threads': 4, 'calculate_training_loss': True}\n"
     ]
    },
    {
     "data": {
      "application/vnd.jupyter.widget-view+json": {
       "model_id": "fb52d7e1f77c40e2bae31e40d5307e27",
       "version_major": 2,
       "version_minor": 0
      },
      "text/plain": [
       "  0%|          | 0/20 [00:00<?, ?it/s]"
      ]
     },
     "metadata": {},
     "output_type": "display_data"
    },
    {
     "name": "stdout",
     "output_type": "stream",
     "text": [
      "{'factors': 200, 'regularization': 1, 'iterations': 25, 'num_threads': 4, 'calculate_training_loss': True}\n"
     ]
    },
    {
     "data": {
      "application/vnd.jupyter.widget-view+json": {
       "model_id": "2cbc7f1f0f254f1a89b344c0022053cb",
       "version_major": 2,
       "version_minor": 0
      },
      "text/plain": [
       "  0%|          | 0/25 [00:00<?, ?it/s]"
      ]
     },
     "metadata": {},
     "output_type": "display_data"
    },
    {
     "name": "stdout",
     "output_type": "stream",
     "text": [
      "{'factors': 200, 'regularization': 1, 'iterations': 100, 'num_threads': 4, 'calculate_training_loss': True}\n"
     ]
    },
    {
     "data": {
      "application/vnd.jupyter.widget-view+json": {
       "model_id": "a36e9bfd6b124508ad6fc4fbf05aa1c7",
       "version_major": 2,
       "version_minor": 0
      },
      "text/plain": [
       "  0%|          | 0/100 [00:00<?, ?it/s]"
      ]
     },
     "metadata": {},
     "output_type": "display_data"
    }
   ],
   "source": [
    "grid_search_results = grid_search_ALS(user_item_matrix, param_grid_final, result)"
   ]
  },
  {
   "cell_type": "code",
   "execution_count": 80,
   "metadata": {},
   "outputs": [
    {
     "data": {
      "text/plain": [
       "[{'params': {'factors': 50,\n",
       "   'regularization': 0.01,\n",
       "   'iterations': 10,\n",
       "   'num_threads': 4,\n",
       "   'calculate_training_loss': True},\n",
       "  'pers_at_k': 0.16993143976493633,\n",
       "  'iteration': 15},\n",
       " {'params': {'factors': 50,\n",
       "   'regularization': 0.1,\n",
       "   'iterations': 15,\n",
       "   'num_threads': 4,\n",
       "   'calculate_training_loss': True},\n",
       "  'pers_at_k': 0.16875612144955926,\n",
       "  'iteration': 21},\n",
       " {'params': {'factors': 50,\n",
       "   'regularization': 1,\n",
       "   'iterations': 25,\n",
       "   'num_threads': 4,\n",
       "   'calculate_training_loss': True},\n",
       "  'pers_at_k': 0.1685602350636631,\n",
       "  'iteration': 28},\n",
       " {'params': {'factors': 50,\n",
       "   'regularization': 1,\n",
       "   'iterations': 10,\n",
       "   'num_threads': 4,\n",
       "   'calculate_training_loss': True},\n",
       "  'pers_at_k': 0.1683643486777669,\n",
       "  'iteration': 25},\n",
       " {'params': {'factors': 50,\n",
       "   'regularization': 0.005,\n",
       "   'iterations': 15,\n",
       "   'num_threads': 4,\n",
       "   'calculate_training_loss': True},\n",
       "  'pers_at_k': 0.1682664054848188,\n",
       "  'iteration': 11},\n",
       " {'params': {'factors': 50,\n",
       "   'regularization': 0.1,\n",
       "   'iterations': 10,\n",
       "   'num_threads': 4,\n",
       "   'calculate_training_loss': True},\n",
       "  'pers_at_k': 0.1682664054848188,\n",
       "  'iteration': 20},\n",
       " {'params': {'factors': 50,\n",
       "   'regularization': 0.01,\n",
       "   'iterations': 25,\n",
       "   'num_threads': 4,\n",
       "   'calculate_training_loss': True},\n",
       "  'pers_at_k': 0.16807051909892265,\n",
       "  'iteration': 18},\n",
       " {'params': {'factors': 50,\n",
       "   'regularization': 1,\n",
       "   'iterations': 15,\n",
       "   'num_threads': 4,\n",
       "   'calculate_training_loss': True},\n",
       "  'pers_at_k': 0.16767874632713028,\n",
       "  'iteration': 26},\n",
       " {'params': {'factors': 100,\n",
       "   'regularization': 0.1,\n",
       "   'iterations': 25,\n",
       "   'num_threads': 4,\n",
       "   'calculate_training_loss': True},\n",
       "  'pers_at_k': 0.16728697355533792,\n",
       "  'iteration': 53},\n",
       " {'params': {'factors': 50,\n",
       "   'regularization': 0.01,\n",
       "   'iterations': 20,\n",
       "   'num_threads': 4,\n",
       "   'calculate_training_loss': True},\n",
       "  'pers_at_k': 0.16699314397649365,\n",
       "  'iteration': 17},\n",
       " {'params': {'factors': 50,\n",
       "   'regularization': 0.1,\n",
       "   'iterations': 100,\n",
       "   'num_threads': 4,\n",
       "   'calculate_training_loss': True},\n",
       "  'pers_at_k': 0.16620959843290892,\n",
       "  'iteration': 24},\n",
       " {'params': {'factors': 50,\n",
       "   'regularization': 0.01,\n",
       "   'iterations': 15,\n",
       "   'num_threads': 4,\n",
       "   'calculate_training_loss': True},\n",
       "  'pers_at_k': 0.16591576885406467,\n",
       "  'iteration': 16},\n",
       " {'params': {'factors': 50,\n",
       "   'regularization': 0.0001,\n",
       "   'iterations': 10,\n",
       "   'num_threads': 4,\n",
       "   'calculate_training_loss': True},\n",
       "  'pers_at_k': 0.16591576885406464,\n",
       "  'iteration': 5},\n",
       " {'params': {'factors': 100,\n",
       "   'regularization': 0.1,\n",
       "   'iterations': 10,\n",
       "   'num_threads': 4,\n",
       "   'calculate_training_loss': True},\n",
       "  'pers_at_k': 0.16571988246816852,\n",
       "  'iteration': 50},\n",
       " {'params': {'factors': 50,\n",
       "   'regularization': 0.0001,\n",
       "   'iterations': 100,\n",
       "   'num_threads': 4,\n",
       "   'calculate_training_loss': True},\n",
       "  'pers_at_k': 0.1655239960822723,\n",
       "  'iteration': 9},\n",
       " {'params': {'factors': 50,\n",
       "   'regularization': 0.001,\n",
       "   'iterations': 15,\n",
       "   'num_threads': 4,\n",
       "   'calculate_training_loss': True},\n",
       "  'pers_at_k': 0.16552399608227228,\n",
       "  'iteration': 1},\n",
       " {'params': {'factors': 50,\n",
       "   'regularization': 1,\n",
       "   'iterations': 100,\n",
       "   'num_threads': 4,\n",
       "   'calculate_training_loss': True},\n",
       "  'pers_at_k': 0.16552399608227228,\n",
       "  'iteration': 29},\n",
       " {'params': {'factors': 50,\n",
       "   'regularization': 0.005,\n",
       "   'iterations': 20,\n",
       "   'num_threads': 4,\n",
       "   'calculate_training_loss': True},\n",
       "  'pers_at_k': 0.1654260528893242,\n",
       "  'iteration': 12},\n",
       " {'params': {'factors': 50,\n",
       "   'regularization': 0.001,\n",
       "   'iterations': 25,\n",
       "   'num_threads': 4,\n",
       "   'calculate_training_loss': True},\n",
       "  'pers_at_k': 0.16513222331047994,\n",
       "  'iteration': 3},\n",
       " {'params': {'factors': 50,\n",
       "   'regularization': 0.1,\n",
       "   'iterations': 20,\n",
       "   'num_threads': 4,\n",
       "   'calculate_training_loss': True},\n",
       "  'pers_at_k': 0.16503428011753182,\n",
       "  'iteration': 22},\n",
       " {'params': {'factors': 50,\n",
       "   'regularization': 0.001,\n",
       "   'iterations': 10,\n",
       "   'num_threads': 4,\n",
       "   'calculate_training_loss': True},\n",
       "  'pers_at_k': 0.16474045053868758,\n",
       "  'iteration': 0},\n",
       " {'params': {'factors': 100,\n",
       "   'regularization': 0.01,\n",
       "   'iterations': 15,\n",
       "   'num_threads': 4,\n",
       "   'calculate_training_loss': True},\n",
       "  'pers_at_k': 0.16474045053868755,\n",
       "  'iteration': 46},\n",
       " {'params': {'factors': 50,\n",
       "   'regularization': 0.005,\n",
       "   'iterations': 100,\n",
       "   'num_threads': 4,\n",
       "   'calculate_training_loss': True},\n",
       "  'pers_at_k': 0.16464250734573949,\n",
       "  'iteration': 14},\n",
       " {'params': {'factors': 50,\n",
       "   'regularization': 0.005,\n",
       "   'iterations': 25,\n",
       "   'num_threads': 4,\n",
       "   'calculate_training_loss': True},\n",
       "  'pers_at_k': 0.1644466209598433,\n",
       "  'iteration': 13},\n",
       " {'params': {'factors': 100,\n",
       "   'regularization': 0.0001,\n",
       "   'iterations': 10,\n",
       "   'num_threads': 4,\n",
       "   'calculate_training_loss': True},\n",
       "  'pers_at_k': 0.1644466209598433,\n",
       "  'iteration': 35},\n",
       " {'params': {'factors': 100,\n",
       "   'regularization': 0.01,\n",
       "   'iterations': 10,\n",
       "   'num_threads': 4,\n",
       "   'calculate_training_loss': True},\n",
       "  'pers_at_k': 0.16425073457394712,\n",
       "  'iteration': 45},\n",
       " {'params': {'factors': 50,\n",
       "   'regularization': 1,\n",
       "   'iterations': 20,\n",
       "   'num_threads': 4,\n",
       "   'calculate_training_loss': True},\n",
       "  'pers_at_k': 0.1642507345739471,\n",
       "  'iteration': 27},\n",
       " {'params': {'factors': 50,\n",
       "   'regularization': 0.001,\n",
       "   'iterations': 20,\n",
       "   'num_threads': 4,\n",
       "   'calculate_training_loss': True},\n",
       "  'pers_at_k': 0.16415279138099903,\n",
       "  'iteration': 2},\n",
       " {'params': {'factors': 50,\n",
       "   'regularization': 0.005,\n",
       "   'iterations': 10,\n",
       "   'num_threads': 4,\n",
       "   'calculate_training_loss': True},\n",
       "  'pers_at_k': 0.16405484818805094,\n",
       "  'iteration': 10},\n",
       " {'params': {'factors': 50,\n",
       "   'regularization': 0.1,\n",
       "   'iterations': 25,\n",
       "   'num_threads': 4,\n",
       "   'calculate_training_loss': True},\n",
       "  'pers_at_k': 0.16405484818805094,\n",
       "  'iteration': 23},\n",
       " {'params': {'factors': 100,\n",
       "   'regularization': 0.0001,\n",
       "   'iterations': 15,\n",
       "   'num_threads': 4,\n",
       "   'calculate_training_loss': True},\n",
       "  'pers_at_k': 0.16376101860920667,\n",
       "  'iteration': 36},\n",
       " {'params': {'factors': 100,\n",
       "   'regularization': 1,\n",
       "   'iterations': 15,\n",
       "   'num_threads': 4,\n",
       "   'calculate_training_loss': True},\n",
       "  'pers_at_k': 0.16376101860920664,\n",
       "  'iteration': 56},\n",
       " {'params': {'factors': 100,\n",
       "   'regularization': 0.005,\n",
       "   'iterations': 25,\n",
       "   'num_threads': 4,\n",
       "   'calculate_training_loss': True},\n",
       "  'pers_at_k': 0.16356513222331048,\n",
       "  'iteration': 43},\n",
       " {'params': {'factors': 100,\n",
       "   'regularization': 0.1,\n",
       "   'iterations': 15,\n",
       "   'num_threads': 4,\n",
       "   'calculate_training_loss': True},\n",
       "  'pers_at_k': 0.16356513222331048,\n",
       "  'iteration': 51},\n",
       " {'params': {'factors': 100,\n",
       "   'regularization': 0.01,\n",
       "   'iterations': 25,\n",
       "   'num_threads': 4,\n",
       "   'calculate_training_loss': True},\n",
       "  'pers_at_k': 0.1634671890303624,\n",
       "  'iteration': 48},\n",
       " {'params': {'factors': 50,\n",
       "   'regularization': 0.0001,\n",
       "   'iterations': 25,\n",
       "   'num_threads': 4,\n",
       "   'calculate_training_loss': True},\n",
       "  'pers_at_k': 0.1632713026444662,\n",
       "  'iteration': 8},\n",
       " {'params': {'factors': 100,\n",
       "   'regularization': 0.001,\n",
       "   'iterations': 25,\n",
       "   'num_threads': 4,\n",
       "   'calculate_training_loss': True},\n",
       "  'pers_at_k': 0.1632713026444662,\n",
       "  'iteration': 33},\n",
       " {'params': {'factors': 100,\n",
       "   'regularization': 0.01,\n",
       "   'iterations': 100,\n",
       "   'num_threads': 4,\n",
       "   'calculate_training_loss': True},\n",
       "  'pers_at_k': 0.1632713026444662,\n",
       "  'iteration': 49},\n",
       " {'params': {'factors': 50,\n",
       "   'regularization': 0.0001,\n",
       "   'iterations': 20,\n",
       "   'num_threads': 4,\n",
       "   'calculate_training_loss': True},\n",
       "  'pers_at_k': 0.16317335945151815,\n",
       "  'iteration': 7},\n",
       " {'params': {'factors': 50,\n",
       "   'regularization': 0.0001,\n",
       "   'iterations': 15,\n",
       "   'num_threads': 4,\n",
       "   'calculate_training_loss': True},\n",
       "  'pers_at_k': 0.16317335945151812,\n",
       "  'iteration': 6},\n",
       " {'params': {'factors': 100,\n",
       "   'regularization': 1,\n",
       "   'iterations': 10,\n",
       "   'num_threads': 4,\n",
       "   'calculate_training_loss': True},\n",
       "  'pers_at_k': 0.16317335945151812,\n",
       "  'iteration': 55},\n",
       " {'params': {'factors': 100,\n",
       "   'regularization': 1,\n",
       "   'iterations': 100,\n",
       "   'num_threads': 4,\n",
       "   'calculate_training_loss': True},\n",
       "  'pers_at_k': 0.16307541625857006,\n",
       "  'iteration': 59},\n",
       " {'params': {'factors': 100,\n",
       "   'regularization': 0.005,\n",
       "   'iterations': 20,\n",
       "   'num_threads': 4,\n",
       "   'calculate_training_loss': True},\n",
       "  'pers_at_k': 0.16297747306562194,\n",
       "  'iteration': 42},\n",
       " {'params': {'factors': 100,\n",
       "   'regularization': 0.1,\n",
       "   'iterations': 20,\n",
       "   'num_threads': 4,\n",
       "   'calculate_training_loss': True},\n",
       "  'pers_at_k': 0.16287952987267387,\n",
       "  'iteration': 52},\n",
       " {'params': {'factors': 100,\n",
       "   'regularization': 0.005,\n",
       "   'iterations': 10,\n",
       "   'num_threads': 4,\n",
       "   'calculate_training_loss': True},\n",
       "  'pers_at_k': 0.1624877571008815,\n",
       "  'iteration': 40},\n",
       " {'params': {'factors': 100,\n",
       "   'regularization': 1,\n",
       "   'iterations': 20,\n",
       "   'num_threads': 4,\n",
       "   'calculate_training_loss': True},\n",
       "  'pers_at_k': 0.16238981390793342,\n",
       "  'iteration': 57},\n",
       " {'params': {'factors': 150,\n",
       "   'regularization': 0.1,\n",
       "   'iterations': 10,\n",
       "   'num_threads': 4,\n",
       "   'calculate_training_loss': True},\n",
       "  'pers_at_k': 0.16209598432908912,\n",
       "  'iteration': 80},\n",
       " {'params': {'factors': 100,\n",
       "   'regularization': 1,\n",
       "   'iterations': 25,\n",
       "   'num_threads': 4,\n",
       "   'calculate_training_loss': True},\n",
       "  'pers_at_k': 0.16170421155729678,\n",
       "  'iteration': 58},\n",
       " {'params': {'factors': 50,\n",
       "   'regularization': 0.01,\n",
       "   'iterations': 100,\n",
       "   'num_threads': 4,\n",
       "   'calculate_training_loss': True},\n",
       "  'pers_at_k': 0.1616062683643487,\n",
       "  'iteration': 19},\n",
       " {'params': {'factors': 100,\n",
       "   'regularization': 0.005,\n",
       "   'iterations': 100,\n",
       "   'num_threads': 4,\n",
       "   'calculate_training_loss': True},\n",
       "  'pers_at_k': 0.1615083251714006,\n",
       "  'iteration': 44},\n",
       " {'params': {'factors': 100,\n",
       "   'regularization': 0.1,\n",
       "   'iterations': 100,\n",
       "   'num_threads': 4,\n",
       "   'calculate_training_loss': True},\n",
       "  'pers_at_k': 0.1615083251714006,\n",
       "  'iteration': 54},\n",
       " {'params': {'factors': 50,\n",
       "   'regularization': 0.001,\n",
       "   'iterations': 100,\n",
       "   'num_threads': 4,\n",
       "   'calculate_training_loss': True},\n",
       "  'pers_at_k': 0.16131243878550441,\n",
       "  'iteration': 4},\n",
       " {'params': {'factors': 100,\n",
       "   'regularization': 0.001,\n",
       "   'iterations': 20,\n",
       "   'num_threads': 4,\n",
       "   'calculate_training_loss': True},\n",
       "  'pers_at_k': 0.16121449559255635,\n",
       "  'iteration': 32},\n",
       " {'params': {'factors': 100,\n",
       "   'regularization': 0.005,\n",
       "   'iterations': 15,\n",
       "   'num_threads': 4,\n",
       "   'calculate_training_loss': True},\n",
       "  'pers_at_k': 0.16111655239960823,\n",
       "  'iteration': 41},\n",
       " {'params': {'factors': 100,\n",
       "   'regularization': 0.01,\n",
       "   'iterations': 20,\n",
       "   'num_threads': 4,\n",
       "   'calculate_training_loss': True},\n",
       "  'pers_at_k': 0.1602350636630754,\n",
       "  'iteration': 47},\n",
       " {'params': {'factors': 100,\n",
       "   'regularization': 0.001,\n",
       "   'iterations': 100,\n",
       "   'num_threads': 4,\n",
       "   'calculate_training_loss': True},\n",
       "  'pers_at_k': 0.1595494613124388,\n",
       "  'iteration': 34},\n",
       " {'params': {'factors': 100,\n",
       "   'regularization': 0.0001,\n",
       "   'iterations': 25,\n",
       "   'num_threads': 4,\n",
       "   'calculate_training_loss': True},\n",
       "  'pers_at_k': 0.15925563173359453,\n",
       "  'iteration': 38},\n",
       " {'params': {'factors': 100,\n",
       "   'regularization': 0.0001,\n",
       "   'iterations': 100,\n",
       "   'num_threads': 4,\n",
       "   'calculate_training_loss': True},\n",
       "  'pers_at_k': 0.15915768854064644,\n",
       "  'iteration': 39},\n",
       " {'params': {'factors': 150,\n",
       "   'regularization': 1,\n",
       "   'iterations': 10,\n",
       "   'num_threads': 4,\n",
       "   'calculate_training_loss': True},\n",
       "  'pers_at_k': 0.15827619980411364,\n",
       "  'iteration': 85},\n",
       " {'params': {'factors': 100,\n",
       "   'regularization': 0.001,\n",
       "   'iterations': 15,\n",
       "   'num_threads': 4,\n",
       "   'calculate_training_loss': True},\n",
       "  'pers_at_k': 0.15827619980411362,\n",
       "  'iteration': 31},\n",
       " {'params': {'factors': 100,\n",
       "   'regularization': 0.001,\n",
       "   'iterations': 10,\n",
       "   'num_threads': 4,\n",
       "   'calculate_training_loss': True},\n",
       "  'pers_at_k': 0.1577864838393732,\n",
       "  'iteration': 30},\n",
       " {'params': {'factors': 100,\n",
       "   'regularization': 0.0001,\n",
       "   'iterations': 20,\n",
       "   'num_threads': 4,\n",
       "   'calculate_training_loss': True},\n",
       "  'pers_at_k': 0.15572967678746327,\n",
       "  'iteration': 37},\n",
       " {'params': {'factors': 150,\n",
       "   'regularization': 0.01,\n",
       "   'iterations': 10,\n",
       "   'num_threads': 4,\n",
       "   'calculate_training_loss': True},\n",
       "  'pers_at_k': 0.15494613124387854,\n",
       "  'iteration': 75},\n",
       " {'params': {'factors': 150,\n",
       "   'regularization': 0.1,\n",
       "   'iterations': 15,\n",
       "   'num_threads': 4,\n",
       "   'calculate_training_loss': True},\n",
       "  'pers_at_k': 0.15475024485798236,\n",
       "  'iteration': 81},\n",
       " {'params': {'factors': 150,\n",
       "   'regularization': 0.0001,\n",
       "   'iterations': 10,\n",
       "   'num_threads': 4,\n",
       "   'calculate_training_loss': True},\n",
       "  'pers_at_k': 0.15426052889324193,\n",
       "  'iteration': 65},\n",
       " {'params': {'factors': 150,\n",
       "   'regularization': 0.005,\n",
       "   'iterations': 10,\n",
       "   'num_threads': 4,\n",
       "   'calculate_training_loss': True},\n",
       "  'pers_at_k': 0.15426052889324193,\n",
       "  'iteration': 70},\n",
       " {'params': {'factors': 150,\n",
       "   'regularization': 0.01,\n",
       "   'iterations': 20,\n",
       "   'num_threads': 4,\n",
       "   'calculate_training_loss': True},\n",
       "  'pers_at_k': 0.15367286973555339,\n",
       "  'iteration': 77},\n",
       " {'params': {'factors': 150,\n",
       "   'regularization': 1,\n",
       "   'iterations': 20,\n",
       "   'num_threads': 4,\n",
       "   'calculate_training_loss': True},\n",
       "  'pers_at_k': 0.1523996082272282,\n",
       "  'iteration': 87},\n",
       " {'params': {'factors': 200,\n",
       "   'regularization': 0.1,\n",
       "   'iterations': 10,\n",
       "   'num_threads': 4,\n",
       "   'calculate_training_loss': True},\n",
       "  'pers_at_k': 0.15220372184133205,\n",
       "  'iteration': 110},\n",
       " {'params': {'factors': 150,\n",
       "   'regularization': 0.001,\n",
       "   'iterations': 10,\n",
       "   'num_threads': 4,\n",
       "   'calculate_training_loss': True},\n",
       "  'pers_at_k': 0.15210577864838393,\n",
       "  'iteration': 60},\n",
       " {'params': {'factors': 150,\n",
       "   'regularization': 0.01,\n",
       "   'iterations': 15,\n",
       "   'num_threads': 4,\n",
       "   'calculate_training_loss': True},\n",
       "  'pers_at_k': 0.1517140058765916,\n",
       "  'iteration': 76},\n",
       " {'params': {'factors': 150,\n",
       "   'regularization': 0.001,\n",
       "   'iterations': 15,\n",
       "   'num_threads': 4,\n",
       "   'calculate_training_loss': True},\n",
       "  'pers_at_k': 0.15171400587659156,\n",
       "  'iteration': 61},\n",
       " {'params': {'factors': 150,\n",
       "   'regularization': 1,\n",
       "   'iterations': 15,\n",
       "   'num_threads': 4,\n",
       "   'calculate_training_loss': True},\n",
       "  'pers_at_k': 0.1503428011753183,\n",
       "  'iteration': 86},\n",
       " {'params': {'factors': 150,\n",
       "   'regularization': 0.01,\n",
       "   'iterations': 25,\n",
       "   'num_threads': 4,\n",
       "   'calculate_training_loss': True},\n",
       "  'pers_at_k': 0.15014691478942216,\n",
       "  'iteration': 78},\n",
       " {'params': {'factors': 150,\n",
       "   'regularization': 0.0001,\n",
       "   'iterations': 20,\n",
       "   'num_threads': 4,\n",
       "   'calculate_training_loss': True},\n",
       "  'pers_at_k': 0.1497551420176298,\n",
       "  'iteration': 67},\n",
       " {'params': {'factors': 150,\n",
       "   'regularization': 0.001,\n",
       "   'iterations': 25,\n",
       "   'num_threads': 4,\n",
       "   'calculate_training_loss': True},\n",
       "  'pers_at_k': 0.1496571988246817,\n",
       "  'iteration': 63},\n",
       " {'params': {'factors': 150,\n",
       "   'regularization': 0.1,\n",
       "   'iterations': 20,\n",
       "   'num_threads': 4,\n",
       "   'calculate_training_loss': True},\n",
       "  'pers_at_k': 0.1496571988246817,\n",
       "  'iteration': 82},\n",
       " {'params': {'factors': 150,\n",
       "   'regularization': 1,\n",
       "   'iterations': 25,\n",
       "   'num_threads': 4,\n",
       "   'calculate_training_loss': True},\n",
       "  'pers_at_k': 0.1496571988246817,\n",
       "  'iteration': 88},\n",
       " {'params': {'factors': 150,\n",
       "   'regularization': 0.005,\n",
       "   'iterations': 20,\n",
       "   'num_threads': 4,\n",
       "   'calculate_training_loss': True},\n",
       "  'pers_at_k': 0.14887365328109697,\n",
       "  'iteration': 72},\n",
       " {'params': {'factors': 150,\n",
       "   'regularization': 0.0001,\n",
       "   'iterations': 15,\n",
       "   'num_threads': 4,\n",
       "   'calculate_training_loss': True},\n",
       "  'pers_at_k': 0.14818805093046034,\n",
       "  'iteration': 66},\n",
       " {'params': {'factors': 150,\n",
       "   'regularization': 0.1,\n",
       "   'iterations': 25,\n",
       "   'num_threads': 4,\n",
       "   'calculate_training_loss': True},\n",
       "  'pers_at_k': 0.14818805093046034,\n",
       "  'iteration': 83},\n",
       " {'params': {'factors': 150,\n",
       "   'regularization': 0.001,\n",
       "   'iterations': 20,\n",
       "   'num_threads': 4,\n",
       "   'calculate_training_loss': True},\n",
       "  'pers_at_k': 0.14809010773751224,\n",
       "  'iteration': 62},\n",
       " {'params': {'factors': 150,\n",
       "   'regularization': 1,\n",
       "   'iterations': 100,\n",
       "   'num_threads': 4,\n",
       "   'calculate_training_loss': True},\n",
       "  'pers_at_k': 0.14730656219392751,\n",
       "  'iteration': 89},\n",
       " {'params': {'factors': 150,\n",
       "   'regularization': 0.005,\n",
       "   'iterations': 15,\n",
       "   'num_threads': 4,\n",
       "   'calculate_training_loss': True},\n",
       "  'pers_at_k': 0.1473065621939275,\n",
       "  'iteration': 71},\n",
       " {'params': {'factors': 200,\n",
       "   'regularization': 1,\n",
       "   'iterations': 10,\n",
       "   'num_threads': 4,\n",
       "   'calculate_training_loss': True},\n",
       "  'pers_at_k': 0.14711067580803133,\n",
       "  'iteration': 115},\n",
       " {'params': {'factors': 150,\n",
       "   'regularization': 0.005,\n",
       "   'iterations': 25,\n",
       "   'num_threads': 4,\n",
       "   'calculate_training_loss': True},\n",
       "  'pers_at_k': 0.14632713026444663,\n",
       "  'iteration': 73},\n",
       " {'params': {'factors': 150,\n",
       "   'regularization': 0.0001,\n",
       "   'iterations': 100,\n",
       "   'num_threads': 4,\n",
       "   'calculate_training_loss': True},\n",
       "  'pers_at_k': 0.14622918707149854,\n",
       "  'iteration': 69},\n",
       " {'params': {'factors': 150,\n",
       "   'regularization': 0.1,\n",
       "   'iterations': 100,\n",
       "   'num_threads': 4,\n",
       "   'calculate_training_loss': True},\n",
       "  'pers_at_k': 0.14603330068560236,\n",
       "  'iteration': 84},\n",
       " {'params': {'factors': 200,\n",
       "   'regularization': 0.01,\n",
       "   'iterations': 10,\n",
       "   'num_threads': 4,\n",
       "   'calculate_training_loss': True},\n",
       "  'pers_at_k': 0.14603330068560236,\n",
       "  'iteration': 105},\n",
       " {'params': {'factors': 150,\n",
       "   'regularization': 0.01,\n",
       "   'iterations': 100,\n",
       "   'num_threads': 4,\n",
       "   'calculate_training_loss': True},\n",
       "  'pers_at_k': 0.14564152791381,\n",
       "  'iteration': 79},\n",
       " {'params': {'factors': 150,\n",
       "   'regularization': 0.005,\n",
       "   'iterations': 100,\n",
       "   'num_threads': 4,\n",
       "   'calculate_training_loss': True},\n",
       "  'pers_at_k': 0.1447600391772772,\n",
       "  'iteration': 74},\n",
       " {'params': {'factors': 150,\n",
       "   'regularization': 0.001,\n",
       "   'iterations': 100,\n",
       "   'num_threads': 4,\n",
       "   'calculate_training_loss': True},\n",
       "  'pers_at_k': 0.14456415279138102,\n",
       "  'iteration': 64},\n",
       " {'params': {'factors': 200,\n",
       "   'regularization': 0.005,\n",
       "   'iterations': 10,\n",
       "   'num_threads': 4,\n",
       "   'calculate_training_loss': True},\n",
       "  'pers_at_k': 0.14397649363369247,\n",
       "  'iteration': 100},\n",
       " {'params': {'factors': 150,\n",
       "   'regularization': 0.0001,\n",
       "   'iterations': 25,\n",
       "   'num_threads': 4,\n",
       "   'calculate_training_loss': True},\n",
       "  'pers_at_k': 0.14368266405484817,\n",
       "  'iteration': 68},\n",
       " {'params': {'factors': 200,\n",
       "   'regularization': 0.1,\n",
       "   'iterations': 15,\n",
       "   'num_threads': 4,\n",
       "   'calculate_training_loss': True},\n",
       "  'pers_at_k': 0.14358472086190013,\n",
       "  'iteration': 111},\n",
       " {'params': {'factors': 200,\n",
       "   'regularization': 0.01,\n",
       "   'iterations': 15,\n",
       "   'num_threads': 4,\n",
       "   'calculate_training_loss': True},\n",
       "  'pers_at_k': 0.14289911851126347,\n",
       "  'iteration': 106},\n",
       " {'params': {'factors': 200,\n",
       "   'regularization': 1,\n",
       "   'iterations': 15,\n",
       "   'num_threads': 4,\n",
       "   'calculate_training_loss': True},\n",
       "  'pers_at_k': 0.14152791380999022,\n",
       "  'iteration': 116},\n",
       " {'params': {'factors': 200,\n",
       "   'regularization': 1,\n",
       "   'iterations': 20,\n",
       "   'num_threads': 4,\n",
       "   'calculate_training_loss': True},\n",
       "  'pers_at_k': 0.14074436826640546,\n",
       "  'iteration': 117},\n",
       " {'params': {'factors': 200,\n",
       "   'regularization': 0.005,\n",
       "   'iterations': 15,\n",
       "   'num_threads': 4,\n",
       "   'calculate_training_loss': True},\n",
       "  'pers_at_k': 0.1406464250734574,\n",
       "  'iteration': 101},\n",
       " {'params': {'factors': 200,\n",
       "   'regularization': 0.001,\n",
       "   'iterations': 10,\n",
       "   'num_threads': 4,\n",
       "   'calculate_training_loss': True},\n",
       "  'pers_at_k': 0.1384916748285994,\n",
       "  'iteration': 90},\n",
       " {'params': {'factors': 200,\n",
       "   'regularization': 0.0001,\n",
       "   'iterations': 10,\n",
       "   'num_threads': 4,\n",
       "   'calculate_training_loss': True},\n",
       "  'pers_at_k': 0.13712047012732614,\n",
       "  'iteration': 95},\n",
       " {'params': {'factors': 200,\n",
       "   'regularization': 0.1,\n",
       "   'iterations': 20,\n",
       "   'num_threads': 4,\n",
       "   'calculate_training_loss': True},\n",
       "  'pers_at_k': 0.13594515181194908,\n",
       "  'iteration': 112},\n",
       " {'params': {'factors': 200,\n",
       "   'regularization': 0.1,\n",
       "   'iterations': 25,\n",
       "   'num_threads': 4,\n",
       "   'calculate_training_loss': True},\n",
       "  'pers_at_k': 0.13447600391772774,\n",
       "  'iteration': 113},\n",
       " {'params': {'factors': 200,\n",
       "   'regularization': 0.01,\n",
       "   'iterations': 25,\n",
       "   'num_threads': 4,\n",
       "   'calculate_training_loss': True},\n",
       "  'pers_at_k': 0.13428011753183153,\n",
       "  'iteration': 108},\n",
       " {'params': {'factors': 200,\n",
       "   'regularization': 0.01,\n",
       "   'iterations': 20,\n",
       "   'num_threads': 4,\n",
       "   'calculate_training_loss': True},\n",
       "  'pers_at_k': 0.133692458374143,\n",
       "  'iteration': 107},\n",
       " {'params': {'factors': 200,\n",
       "   'regularization': 0.005,\n",
       "   'iterations': 20,\n",
       "   'num_threads': 4,\n",
       "   'calculate_training_loss': True},\n",
       "  'pers_at_k': 0.13339862879529873,\n",
       "  'iteration': 102},\n",
       " {'params': {'factors': 200,\n",
       "   'regularization': 1,\n",
       "   'iterations': 25,\n",
       "   'num_threads': 4,\n",
       "   'calculate_training_loss': True},\n",
       "  'pers_at_k': 0.13241919686581785,\n",
       "  'iteration': 118},\n",
       " {'params': {'factors': 200,\n",
       "   'regularization': 0.001,\n",
       "   'iterations': 15,\n",
       "   'num_threads': 4,\n",
       "   'calculate_training_loss': True},\n",
       "  'pers_at_k': 0.1320274240940255,\n",
       "  'iteration': 91},\n",
       " {'params': {'factors': 200,\n",
       "   'regularization': 0.001,\n",
       "   'iterations': 20,\n",
       "   'num_threads': 4,\n",
       "   'calculate_training_loss': True},\n",
       "  'pers_at_k': 0.1319294809010774,\n",
       "  'iteration': 92},\n",
       " {'params': {'factors': 200,\n",
       "   'regularization': 0.0001,\n",
       "   'iterations': 15,\n",
       "   'num_threads': 4,\n",
       "   'calculate_training_loss': True},\n",
       "  'pers_at_k': 0.1306562193927522,\n",
       "  'iteration': 96},\n",
       " {'params': {'factors': 200,\n",
       "   'regularization': 0.0001,\n",
       "   'iterations': 20,\n",
       "   'num_threads': 4,\n",
       "   'calculate_training_loss': True},\n",
       "  'pers_at_k': 0.13036238981390794,\n",
       "  'iteration': 97},\n",
       " {'params': {'factors': 200,\n",
       "   'regularization': 0.005,\n",
       "   'iterations': 25,\n",
       "   'num_threads': 4,\n",
       "   'calculate_training_loss': True},\n",
       "  'pers_at_k': 0.13016650342801173,\n",
       "  'iteration': 103},\n",
       " {'params': {'factors': 200,\n",
       "   'regularization': 1,\n",
       "   'iterations': 100,\n",
       "   'num_threads': 4,\n",
       "   'calculate_training_loss': True},\n",
       "  'pers_at_k': 0.13016650342801173,\n",
       "  'iteration': 119},\n",
       " {'params': {'factors': 200,\n",
       "   'regularization': 0.005,\n",
       "   'iterations': 100,\n",
       "   'num_threads': 4,\n",
       "   'calculate_training_loss': True},\n",
       "  'pers_at_k': 0.13006856023506366,\n",
       "  'iteration': 104},\n",
       " {'params': {'factors': 200,\n",
       "   'regularization': 0.0001,\n",
       "   'iterations': 25,\n",
       "   'num_threads': 4,\n",
       "   'calculate_training_loss': True},\n",
       "  'pers_at_k': 0.12987267384916748,\n",
       "  'iteration': 98},\n",
       " {'params': {'factors': 200,\n",
       "   'regularization': 0.01,\n",
       "   'iterations': 100,\n",
       "   'num_threads': 4,\n",
       "   'calculate_training_loss': True},\n",
       "  'pers_at_k': 0.1297747306562194,\n",
       "  'iteration': 109},\n",
       " {'params': {'factors': 200,\n",
       "   'regularization': 0.001,\n",
       "   'iterations': 100,\n",
       "   'num_threads': 4,\n",
       "   'calculate_training_loss': True},\n",
       "  'pers_at_k': 0.1296767874632713,\n",
       "  'iteration': 94},\n",
       " {'params': {'factors': 200,\n",
       "   'regularization': 0.1,\n",
       "   'iterations': 100,\n",
       "   'num_threads': 4,\n",
       "   'calculate_training_loss': True},\n",
       "  'pers_at_k': 0.12889324191968657,\n",
       "  'iteration': 114},\n",
       " {'params': {'factors': 200,\n",
       "   'regularization': 0.001,\n",
       "   'iterations': 25,\n",
       "   'num_threads': 4,\n",
       "   'calculate_training_loss': True},\n",
       "  'pers_at_k': 0.12791380999020568,\n",
       "  'iteration': 93},\n",
       " {'params': {'factors': 200,\n",
       "   'regularization': 0.0001,\n",
       "   'iterations': 100,\n",
       "   'num_threads': 4,\n",
       "   'calculate_training_loss': True},\n",
       "  'pers_at_k': 0.12624877571008816,\n",
       "  'iteration': 99}]"
      ]
     },
     "execution_count": 80,
     "metadata": {},
     "output_type": "execute_result"
    }
   ],
   "source": [
    "best_grid_search_results = sorted(grid_search_results, key=lambda x: x['pers_at_k'], reverse=True)\n",
    "best_grid_search_results"
   ]
  },
  {
   "cell_type": "code",
   "execution_count": 81,
   "metadata": {},
   "outputs": [
    {
     "data": {
      "text/plain": [
       "{'params': {'factors': 50,\n",
       "  'regularization': 0.01,\n",
       "  'iterations': 10,\n",
       "  'num_threads': 4,\n",
       "  'calculate_training_loss': True},\n",
       " 'pers_at_k': 0.16993143976493633,\n",
       " 'iteration': 15}"
      ]
     },
     "execution_count": 81,
     "metadata": {},
     "output_type": "execute_result"
    }
   ],
   "source": [
    "best_grid_search_results[0]"
   ]
  },
  {
   "cell_type": "markdown",
   "metadata": {
    "id": "_BlVIuo8IHy2"
   },
   "source": [
    "**Ситуация**: Вы работает data scientist в крупном продуктовом российском ритейлере. Ваш конкурент сделал рекомендательную систему, и его продажи выросли. Ваш менеджмент тоже хочет увеличить продажи   \n",
    "**Задача со слов менеджера**: Сделайте рекомендательную систему топ-10 товаров для рассылки по e-mail"
   ]
  },
  {
   "cell_type": "markdown",
   "metadata": {},
   "source": [
    "- А точно нужно сортировать по вероятности?\n",
    "По вероятности чего? того, что пользователю понравится товар? \n",
    "Да, но также нужно учесть стоимость данного товара. Исключить, к примеру, очень дорогие товары, или отправлять их если пользователь недавно присматривался к похожим. Но чтобы такого товара было 1-2 максимум в рассылке.\n",
    "- Какую метрику использовать?\n",
    "Precision at k, money_precision_at_k, recall_at_k и money_recall_at_k.\n",
    "- Сколько раз в неделю отправляем рассылку?\n",
    "Надо посчитать косты и доход с рассылки. Но, думаю, не чаще 1 раза в неделю, чтобы не спамить.\n",
    "- В какое время отправляем рассылку?\n",
    "Могу судить только по себе, когда я проверяю личную почту. В один из этих моментов: утром, когда прихожу на работу (в пандемии время проверки сдвинулось), вечером перед уходом, иногда могу в обед. Если аудитория женская, то в другие промежутки домашние дела и работа.\n",
    "- Будем отправлять одному юзеру много раз наши рекоммендации. Как добиться того, чтобы они хоть немного отличались?\n",
    "Фильтрами, может быть где-то фиксировать кому мы что отправили.\n",
    "- Нужно ли, чтобы в одной рассылке были *разные* товары? Как определить, что товары *разные*? Как добиться того, чтобы они были разными?\n",
    "Смотря на что тригеррит рассылка наверное. Если пользователь давно не проявлял активности, то лучше отправить разные, популярные у похожих пользователей. Если только что смотрел холодильники, отправить ему неразные, мне кажется, можно. Холодильники по акции. Разные - что они относятся к разной категории? Как добиться - Может быть разделить товары на категории, и из каждой категории выбрать подходящий товар, который больше всего понравится пользователю."
   ]
  },
  {
   "cell_type": "code",
   "execution_count": null,
   "metadata": {},
   "outputs": [],
   "source": []
  }
 ],
 "metadata": {
  "colab": {
   "name": "webinar_3.ipynb",
   "provenance": [],
   "toc_visible": true
  },
  "kernelspec": {
   "display_name": "Python 3",
   "language": "python",
   "name": "python3"
  },
  "language_info": {
   "codemirror_mode": {
    "name": "ipython",
    "version": 3
   },
   "file_extension": ".py",
   "mimetype": "text/x-python",
   "name": "python",
   "nbconvert_exporter": "python",
   "pygments_lexer": "ipython3",
   "version": "3.7.4"
  }
 },
 "nbformat": 4,
 "nbformat_minor": 1
}
